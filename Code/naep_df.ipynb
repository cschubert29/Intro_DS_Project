{
 "cells": [
  {
   "cell_type": "code",
   "execution_count": 14,
   "metadata": {},
   "outputs": [],
   "source": [
    "import pandas as pd\n"
   ]
  },
  {
   "cell_type": "code",
   "execution_count": 15,
   "metadata": {},
   "outputs": [],
   "source": [
    "dfnaep= pd.read_csv(\"/Users/paulososa/Intro_DS_Project/Data/US-Educational-Finances/naep.csv\")\n",
    "dfnaep['AVG_SCORE']= pd.to_numeric(dfnaep['AVG_SCORE'], errors= 'coerce')"
   ]
  },
  {
   "cell_type": "code",
   "execution_count": 16,
   "metadata": {},
   "outputs": [
    {
     "data": {
      "text/html": [
       "<div>\n",
       "<style scoped>\n",
       "    .dataframe tbody tr th:only-of-type {\n",
       "        vertical-align: middle;\n",
       "    }\n",
       "\n",
       "    .dataframe tbody tr th {\n",
       "        vertical-align: top;\n",
       "    }\n",
       "\n",
       "    .dataframe thead th {\n",
       "        text-align: right;\n",
       "    }\n",
       "</style>\n",
       "<table border=\"1\" class=\"dataframe\">\n",
       "  <thead>\n",
       "    <tr style=\"text-align: right;\">\n",
       "      <th></th>\n",
       "      <th>YEAR</th>\n",
       "      <th>STATE</th>\n",
       "      <th>AVG_SCORE</th>\n",
       "      <th>TEST_SUBJECT</th>\n",
       "      <th>TEST_YEAR</th>\n",
       "    </tr>\n",
       "  </thead>\n",
       "  <tbody>\n",
       "    <tr>\n",
       "      <th>0</th>\n",
       "      <td>2017</td>\n",
       "      <td>Alabama</td>\n",
       "      <td>232.170688</td>\n",
       "      <td>Mathematics</td>\n",
       "      <td>4</td>\n",
       "    </tr>\n",
       "    <tr>\n",
       "      <th>1</th>\n",
       "      <td>2017</td>\n",
       "      <td>Alaska</td>\n",
       "      <td>230.456278</td>\n",
       "      <td>Mathematics</td>\n",
       "      <td>4</td>\n",
       "    </tr>\n",
       "    <tr>\n",
       "      <th>2</th>\n",
       "      <td>2017</td>\n",
       "      <td>Arizona</td>\n",
       "      <td>234.435788</td>\n",
       "      <td>Mathematics</td>\n",
       "      <td>4</td>\n",
       "    </tr>\n",
       "    <tr>\n",
       "      <th>3</th>\n",
       "      <td>2017</td>\n",
       "      <td>Arkansas</td>\n",
       "      <td>233.848144</td>\n",
       "      <td>Mathematics</td>\n",
       "      <td>4</td>\n",
       "    </tr>\n",
       "    <tr>\n",
       "      <th>4</th>\n",
       "      <td>2017</td>\n",
       "      <td>California</td>\n",
       "      <td>232.262941</td>\n",
       "      <td>Mathematics</td>\n",
       "      <td>4</td>\n",
       "    </tr>\n",
       "  </tbody>\n",
       "</table>\n",
       "</div>"
      ],
      "text/plain": [
       "   YEAR       STATE   AVG_SCORE TEST_SUBJECT  TEST_YEAR\n",
       "0  2017     Alabama  232.170688  Mathematics          4\n",
       "1  2017      Alaska  230.456278  Mathematics          4\n",
       "2  2017     Arizona  234.435788  Mathematics          4\n",
       "3  2017    Arkansas  233.848144  Mathematics          4\n",
       "4  2017  California  232.262941  Mathematics          4"
      ]
     },
     "execution_count": 16,
     "metadata": {},
     "output_type": "execute_result"
    }
   ],
   "source": [
    "dfnaep.head()"
   ]
  },
  {
   "cell_type": "code",
   "execution_count": 17,
   "metadata": {},
   "outputs": [],
   "source": [
    "flNaep=dfnaep[(dfnaep.STATE=='Florida')]"
   ]
  },
  {
   "cell_type": "code",
   "execution_count": 5,
   "metadata": {},
   "outputs": [],
   "source": [
    "flNaep.to_csv('Florida_naep', sep= '\\t', encoding= 'utf-8')"
   ]
  },
  {
   "cell_type": "code",
   "execution_count": 8,
   "metadata": {},
   "outputs": [],
   "source": [
    "dfnaep.dtypes"
   ]
  },
  {
   "cell_type": "code",
   "execution_count": 18,
   "metadata": {},
   "outputs": [
    {
     "data": {
      "text/plain": [
       "248.28707544256082"
      ]
     },
     "execution_count": 18,
     "metadata": {},
     "output_type": "execute_result"
    }
   ],
   "source": [
    "dfnaep.AVG_SCORE.mean()\n",
    "\n"
   ]
  },
  {
   "cell_type": "code",
   "execution_count": 21,
   "metadata": {},
   "outputs": [],
   "source": [
    "group_STATE=dfnaep.groupby('STATE').AVG_SCORE.mean()"
   ]
  },
  {
   "cell_type": "code",
   "execution_count": 26,
   "metadata": {},
   "outputs": [
    {
     "data": {
      "text/plain": [
       "<matplotlib.axes._subplots.AxesSubplot at 0x10aa3efd0>"
      ]
     },
     "execution_count": 26,
     "metadata": {},
     "output_type": "execute_result"
    },
    {
     "data": {
      "image/png": "[encoded data removed]",
      "text/plain": [
       "<Figure size 432x288 with 1 Axes>"
      ]
     },
     "metadata": {},
     "output_type": "display_data"
    }
   ],
   "source": [
    "%matplotlib inline\n",
    "group_STATE.plot(kind='bar')\n"
   ]
  },
  {
   "cell_type": "code",
   "execution_count": 23,
   "metadata": {},
   "outputs": [
    {
     "data": {
      "text/plain": [
       "STATE\n",
       "Alabama                 238.459702\n",
       "Alaska                  246.731767\n",
       "Arizona                 242.473198\n",
       "Arkansas                242.667889\n",
       "California              238.616212\n",
       "Colorado                252.188532\n",
       "Connecticut             254.285914\n",
       "Delaware                248.350135\n",
       "District of Columbia    224.062988\n",
       "DoDEA                   273.656481\n",
       "Florida                 246.262732\n",
       "Georgia                 244.282924\n",
       "Hawaii                  240.199976\n",
       "Idaho                   251.857974\n",
       "Illinois                250.908631\n",
       "Indiana                 252.413145\n",
       "Iowa                    251.593958\n",
       "Kansas                  254.299092\n",
       "Kentucky                247.600156\n",
       "Louisiana               237.190222\n",
       "Maine                   253.407336\n",
       "Maryland                249.817127\n",
       "Massachusetts           259.224954\n",
       "Michigan                247.747585\n",
       "Minnesota               255.820392\n",
       "Mississippi             235.277468\n",
       "Missouri                249.078417\n",
       "Montana                 255.153846\n",
       "Nebraska                252.467853\n",
       "Nevada                  241.696352\n",
       "New Hampshire           257.521943\n",
       "New Jersey              256.172492\n",
       "New Mexico              237.493538\n",
       "New York                248.700418\n",
       "North Carolina          248.594360\n",
       "North Dakota            255.203833\n",
       "Ohio                    253.370029\n",
       "Oklahoma                246.075853\n",
       "Oregon                  250.531173\n",
       "Pennsylvania            251.819492\n",
       "Rhode Island            247.080107\n",
       "South Carolina          243.102777\n",
       "South Dakota            254.545741\n",
       "Tennessee               243.062680\n",
       "Texas                   247.996743\n",
       "Utah                    250.023329\n",
       "Vermont                 257.945346\n",
       "Virginia                252.556629\n",
       "Washington              252.453414\n",
       "West Virginia           242.967054\n",
       "Name: AVG_SCORE, dtype: float64"
      ]
     },
     "execution_count": 23,
     "metadata": {},
     "output_type": "execute_result"
    }
   ],
   "source": [
    "group_STATE.head(50)"
   ]
  },
  {
   "cell_type": "code",
   "execution_count": null,
   "metadata": {},
   "outputs": [],
   "source": [
    "group_STATE.to_csv('States_avg_naep', sep= '\\t', encoding= 'utf-8')"
   ]
  }
 ],
 "metadata": {
  "kernelspec": {
   "display_name": "Python 3",
   "language": "python",
   "name": "python3"
  },
  "language_info": {
   "codemirror_mode": {
    "name": "ipython",
    "version": 3
   },
   "file_extension": ".py",
   "mimetype": "text/x-python",
   "name": "python",
   "nbconvert_exporter": "python",
   "pygments_lexer": "ipython3",
   "version": "3.6.5"
  }
 },
 "nbformat": 4,
 "nbformat_minor": 2
}
