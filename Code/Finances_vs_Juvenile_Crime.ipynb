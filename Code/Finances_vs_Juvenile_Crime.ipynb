{
 "cells": [
  {
   "cell_type": "code",
   "execution_count": 1,
   "metadata": {},
   "outputs": [],
   "source": [
    "#import all necessary packages\n",
    "\n",
    "import pandas as pd\n",
    "import statsmodels.api as sm\n",
    "import numpy as np\n",
    "import seaborn as sns; sns.set()\n",
    "from sklearn import tree\n",
    "from sklearn.metrics import mean_squared_error\n",
    "import matplotlib.pyplot as plt\n",
    "from sklearn.model_selection import train_test_split\n",
    "from sklearn.decomposition import PCA\n",
    "from sklearn.tree import DecisionTreeRegressor\n",
    "import graphviz \n",
    "from math import sqrt"
   ]
  },
  {
   "cell_type": "code",
   "execution_count": 2,
   "metadata": {},
   "outputs": [
    {
     "data": {
      "text/html": [
       "<div>\n",
       "<style scoped>\n",
       "    .dataframe tbody tr th:only-of-type {\n",
       "        vertical-align: middle;\n",
       "    }\n",
       "\n",
       "    .dataframe tbody tr th {\n",
       "        vertical-align: top;\n",
       "    }\n",
       "\n",
       "    .dataframe thead th {\n",
       "        text-align: right;\n",
       "    }\n",
       "</style>\n",
       "<table border=\"1\" class=\"dataframe\">\n",
       "  <thead>\n",
       "    <tr style=\"text-align: right;\">\n",
       "      <th></th>\n",
       "      <th>NAME</th>\n",
       "      <th>YRDATA</th>\n",
       "      <th>TOTALREV</th>\n",
       "      <th>TFEDREV</th>\n",
       "      <th>TSTREV</th>\n",
       "      <th>TLOCREV</th>\n",
       "      <th>TOTALEXP</th>\n",
       "      <th>TCURINST</th>\n",
       "      <th>TCURSSVC</th>\n",
       "      <th>TCURONON</th>\n",
       "      <th>TCAPOUT</th>\n",
       "    </tr>\n",
       "  </thead>\n",
       "  <tbody>\n",
       "    <tr>\n",
       "      <th>0</th>\n",
       "      <td>ALACHUA COUNTY SCHOOL DISTRICT</td>\n",
       "      <td>2016</td>\n",
       "      <td>9.702167</td>\n",
       "      <td>1.270125</td>\n",
       "      <td>4.333970</td>\n",
       "      <td>4.098072</td>\n",
       "      <td>9.340386</td>\n",
       "      <td>4.968435</td>\n",
       "      <td>3.352738</td>\n",
       "      <td>0.626344</td>\n",
       "      <td>0.328715</td>\n",
       "    </tr>\n",
       "    <tr>\n",
       "      <th>1</th>\n",
       "      <td>BAKER COUNTY SCHOOL DISTRICT</td>\n",
       "      <td>2016</td>\n",
       "      <td>8.530388</td>\n",
       "      <td>0.965414</td>\n",
       "      <td>6.065374</td>\n",
       "      <td>1.499600</td>\n",
       "      <td>8.362055</td>\n",
       "      <td>4.367453</td>\n",
       "      <td>3.266693</td>\n",
       "      <td>0.565974</td>\n",
       "      <td>0.145542</td>\n",
       "    </tr>\n",
       "    <tr>\n",
       "      <th>2</th>\n",
       "      <td>BAY COUNTY SCHOOL DISTRICT</td>\n",
       "      <td>2016</td>\n",
       "      <td>9.979338</td>\n",
       "      <td>0.934416</td>\n",
       "      <td>3.981534</td>\n",
       "      <td>5.063389</td>\n",
       "      <td>9.527591</td>\n",
       "      <td>5.411936</td>\n",
       "      <td>2.667003</td>\n",
       "      <td>0.541305</td>\n",
       "      <td>0.797883</td>\n",
       "    </tr>\n",
       "    <tr>\n",
       "      <th>3</th>\n",
       "      <td>BRADFORD COUNTY SCHOOL DISTRICT</td>\n",
       "      <td>2016</td>\n",
       "      <td>10.011229</td>\n",
       "      <td>1.574860</td>\n",
       "      <td>5.697130</td>\n",
       "      <td>2.739239</td>\n",
       "      <td>9.352776</td>\n",
       "      <td>5.072052</td>\n",
       "      <td>3.243606</td>\n",
       "      <td>0.945415</td>\n",
       "      <td>0.083593</td>\n",
       "    </tr>\n",
       "    <tr>\n",
       "      <th>4</th>\n",
       "      <td>BREVARD COUNTY SCHOOL DISTRICT</td>\n",
       "      <td>2016</td>\n",
       "      <td>9.968929</td>\n",
       "      <td>1.037302</td>\n",
       "      <td>4.560299</td>\n",
       "      <td>4.371328</td>\n",
       "      <td>9.390130</td>\n",
       "      <td>5.292529</td>\n",
       "      <td>2.829184</td>\n",
       "      <td>0.455725</td>\n",
       "      <td>0.526518</td>\n",
       "    </tr>\n",
       "  </tbody>\n",
       "</table>\n",
       "</div>"
      ],
      "text/plain": [
       "                              NAME  YRDATA   TOTALREV   TFEDREV    TSTREV  \\\n",
       "0   ALACHUA COUNTY SCHOOL DISTRICT    2016   9.702167  1.270125  4.333970   \n",
       "1     BAKER COUNTY SCHOOL DISTRICT    2016   8.530388  0.965414  6.065374   \n",
       "2       BAY COUNTY SCHOOL DISTRICT    2016   9.979338  0.934416  3.981534   \n",
       "3  BRADFORD COUNTY SCHOOL DISTRICT    2016  10.011229  1.574860  5.697130   \n",
       "4   BREVARD COUNTY SCHOOL DISTRICT    2016   9.968929  1.037302  4.560299   \n",
       "\n",
       "    TLOCREV  TOTALEXP  TCURINST  TCURSSVC  TCURONON   TCAPOUT  \n",
       "0  4.098072  9.340386  4.968435  3.352738  0.626344  0.328715  \n",
       "1  1.499600  8.362055  4.367453  3.266693  0.565974  0.145542  \n",
       "2  5.063389  9.527591  5.411936  2.667003  0.541305  0.797883  \n",
       "3  2.739239  9.352776  5.072052  3.243606  0.945415  0.083593  \n",
       "4  4.371328  9.390130  5.292529  2.829184  0.455725  0.526518  "
      ]
     },
     "execution_count": 2,
     "metadata": {},
     "output_type": "execute_result"
    }
   ],
   "source": [
    "#Import data frame with standardized revenues and expenditures per school district\n",
    "std_districts_FL = pd.read_csv(r\"..\\Data\\Florida data\\District Finances\\FL_District_Finances.csv\", index_col=0)\n",
    "\n",
    "std_districts_FL.head()"
   ]
  },
  {
   "cell_type": "code",
   "execution_count": 3,
   "metadata": {},
   "outputs": [
    {
     "data": {
      "text/html": [
       "<div>\n",
       "<style scoped>\n",
       "    .dataframe tbody tr th:only-of-type {\n",
       "        vertical-align: middle;\n",
       "    }\n",
       "\n",
       "    .dataframe tbody tr th {\n",
       "        vertical-align: top;\n",
       "    }\n",
       "\n",
       "    .dataframe thead th {\n",
       "        text-align: right;\n",
       "    }\n",
       "</style>\n",
       "<table border=\"1\" class=\"dataframe\">\n",
       "  <thead>\n",
       "    <tr style=\"text-align: right;\">\n",
       "      <th></th>\n",
       "      <th>Year</th>\n",
       "      <th>COUNTY NAME</th>\n",
       "      <th>TOTAL ARRESTS</th>\n",
       "      <th>JUVENILE POP</th>\n",
       "      <th>CRIME RATE</th>\n",
       "    </tr>\n",
       "  </thead>\n",
       "  <tbody>\n",
       "    <tr>\n",
       "      <th>0</th>\n",
       "      <td>1998</td>\n",
       "      <td>Alachua</td>\n",
       "      <td>1854</td>\n",
       "      <td>44683</td>\n",
       "      <td>4.149229</td>\n",
       "    </tr>\n",
       "    <tr>\n",
       "      <th>1</th>\n",
       "      <td>1998</td>\n",
       "      <td>Baker</td>\n",
       "      <td>114</td>\n",
       "      <td>6129</td>\n",
       "      <td>1.860010</td>\n",
       "    </tr>\n",
       "    <tr>\n",
       "      <th>2</th>\n",
       "      <td>1998</td>\n",
       "      <td>Bay</td>\n",
       "      <td>1898</td>\n",
       "      <td>36257</td>\n",
       "      <td>5.234851</td>\n",
       "    </tr>\n",
       "    <tr>\n",
       "      <th>3</th>\n",
       "      <td>1998</td>\n",
       "      <td>Bradford</td>\n",
       "      <td>62</td>\n",
       "      <td>5861</td>\n",
       "      <td>1.057840</td>\n",
       "    </tr>\n",
       "    <tr>\n",
       "      <th>4</th>\n",
       "      <td>1998</td>\n",
       "      <td>Brevard</td>\n",
       "      <td>4721</td>\n",
       "      <td>104005</td>\n",
       "      <td>4.539205</td>\n",
       "    </tr>\n",
       "  </tbody>\n",
       "</table>\n",
       "</div>"
      ],
      "text/plain": [
       "   Year COUNTY NAME  TOTAL ARRESTS  JUVENILE POP  CRIME RATE\n",
       "0  1998     Alachua           1854         44683    4.149229\n",
       "1  1998       Baker            114          6129    1.860010\n",
       "2  1998         Bay           1898         36257    5.234851\n",
       "3  1998    Bradford             62          5861    1.057840\n",
       "4  1998     Brevard           4721        104005    4.539205"
      ]
     },
     "execution_count": 3,
     "metadata": {},
     "output_type": "execute_result"
    }
   ],
   "source": [
    "#Import data frame with crime rates per county \n",
    "\n",
    "FL_juv_crime_rate = pd.read_csv(r\"..\\Data\\Florida data\\Juvenile Crime by County\\FL_Juvenile_crime_rate.csv\", index_col=0)\n",
    "FL_juv_crime_rate.head()"
   ]
  },
  {
   "cell_type": "code",
   "execution_count": 4,
   "metadata": {},
   "outputs": [
    {
     "data": {
      "text/plain": [
       "count    1340.000000\n",
       "mean        2.431224\n",
       "std         1.414271\n",
       "min         0.062189\n",
       "25%         1.427326\n",
       "50%         2.215869\n",
       "75%         3.198266\n",
       "max        15.782778\n",
       "Name: CRIME RATE, dtype: float64"
      ]
     },
     "execution_count": 4,
     "metadata": {},
     "output_type": "execute_result"
    }
   ],
   "source": [
    "#Summarize the crime rate\n",
    "\n",
    "FL_juv_crime_rate.describe()['CRIME RATE']"
   ]
  },
  {
   "cell_type": "code",
   "execution_count": 5,
   "metadata": {},
   "outputs": [
    {
     "data": {
      "text/plain": [
       "array(['Alachua', 'Baker', 'Bay', 'Bradford', 'Brevard', 'Broward',\n",
       "       'Calhoun', 'Charlotte', 'Citrus', 'Clay', 'Collier', 'Columbia',\n",
       "       'Desoto', 'Dixie', 'Duval', 'Escambia', 'Flagler', 'Franklin',\n",
       "       'Gadsden', 'Gilchrist', 'Glades', 'Gulf', 'Hamilton', 'Hardee',\n",
       "       'Hendry', 'Hernando', 'Highlands', 'Hillsborough', 'Holmes',\n",
       "       'Indian River', 'Jackson', 'Jefferson', 'Lafayette', 'Lake', 'Lee',\n",
       "       'Leon', 'Levy', 'Liberty', 'Madison', 'Manatee', 'Marion',\n",
       "       'Martin', 'Miami-Dade', 'Monroe', 'Nassau', 'Okaloosa',\n",
       "       'Okeechobee', 'Orange', 'Osecola', 'Palm Beach', 'Pasco',\n",
       "       'Pinellas', 'Polk', 'Putnam', 'Santa Rosa', 'Sarasota', 'Seminole',\n",
       "       'St. Johns', 'St. Lucie', 'Sumter', 'Suwannee', 'Taylor', 'Union',\n",
       "       'Volusia', 'Wakulla', 'Walton', 'Washington'], dtype=object)"
      ]
     },
     "execution_count": 5,
     "metadata": {},
     "output_type": "execute_result"
    }
   ],
   "source": [
    "FL_juv_crime_rate['COUNTY NAME'].unique()"
   ]
  },
  {
   "cell_type": "code",
   "execution_count": 6,
   "metadata": {},
   "outputs": [
    {
     "data": {
      "text/plain": [
       "67"
      ]
     },
     "execution_count": 6,
     "metadata": {},
     "output_type": "execute_result"
    }
   ],
   "source": [
    "#Make sure there are the correct number of counties\n",
    "\n",
    "len(FL_juv_crime_rate['COUNTY NAME'].unique())"
   ]
  },
  {
   "cell_type": "code",
   "execution_count": 7,
   "metadata": {},
   "outputs": [
    {
     "data": {
      "text/html": [
       "<div>\n",
       "<style scoped>\n",
       "    .dataframe tbody tr th:only-of-type {\n",
       "        vertical-align: middle;\n",
       "    }\n",
       "\n",
       "    .dataframe tbody tr th {\n",
       "        vertical-align: top;\n",
       "    }\n",
       "\n",
       "    .dataframe thead th {\n",
       "        text-align: right;\n",
       "    }\n",
       "</style>\n",
       "<table border=\"1\" class=\"dataframe\">\n",
       "  <thead>\n",
       "    <tr style=\"text-align: right;\">\n",
       "      <th></th>\n",
       "      <th>Year</th>\n",
       "      <th>TOTAL ARRESTS</th>\n",
       "      <th>JUVENILE POP</th>\n",
       "      <th>CRIME RATE</th>\n",
       "    </tr>\n",
       "    <tr>\n",
       "      <th>COUNTY NAME</th>\n",
       "      <th></th>\n",
       "      <th></th>\n",
       "      <th></th>\n",
       "      <th></th>\n",
       "    </tr>\n",
       "  </thead>\n",
       "  <tbody>\n",
       "    <tr>\n",
       "      <th>Alachua</th>\n",
       "      <td>2007.5</td>\n",
       "      <td>1564.00</td>\n",
       "      <td>44680.25</td>\n",
       "      <td>3.529299</td>\n",
       "    </tr>\n",
       "    <tr>\n",
       "      <th>Baker</th>\n",
       "      <td>2007.5</td>\n",
       "      <td>124.05</td>\n",
       "      <td>6631.75</td>\n",
       "      <td>1.902121</td>\n",
       "    </tr>\n",
       "    <tr>\n",
       "      <th>Bay</th>\n",
       "      <td>2007.5</td>\n",
       "      <td>1576.80</td>\n",
       "      <td>37313.10</td>\n",
       "      <td>4.241130</td>\n",
       "    </tr>\n",
       "    <tr>\n",
       "      <th>Bradford</th>\n",
       "      <td>2007.5</td>\n",
       "      <td>83.65</td>\n",
       "      <td>5648.70</td>\n",
       "      <td>1.478973</td>\n",
       "    </tr>\n",
       "    <tr>\n",
       "      <th>Brevard</th>\n",
       "      <td>2007.5</td>\n",
       "      <td>4437.85</td>\n",
       "      <td>107220.00</td>\n",
       "      <td>4.128714</td>\n",
       "    </tr>\n",
       "  </tbody>\n",
       "</table>\n",
       "</div>"
      ],
      "text/plain": [
       "               Year  TOTAL ARRESTS  JUVENILE POP  CRIME RATE\n",
       "COUNTY NAME                                                 \n",
       "Alachua      2007.5        1564.00      44680.25    3.529299\n",
       "Baker        2007.5         124.05       6631.75    1.902121\n",
       "Bay          2007.5        1576.80      37313.10    4.241130\n",
       "Bradford     2007.5          83.65       5648.70    1.478973\n",
       "Brevard      2007.5        4437.85     107220.00    4.128714"
      ]
     },
     "execution_count": 7,
     "metadata": {},
     "output_type": "execute_result"
    }
   ],
   "source": [
    "#Average crime rate by county\n",
    "avg_crime = FL_juv_crime_rate.groupby(['COUNTY NAME']).mean()\n",
    "avg_crime.head()"
   ]
  },
  {
   "cell_type": "code",
   "execution_count": 8,
   "metadata": {},
   "outputs": [
    {
     "data": {
      "text/html": [
       "<div>\n",
       "<style scoped>\n",
       "    .dataframe tbody tr th:only-of-type {\n",
       "        vertical-align: middle;\n",
       "    }\n",
       "\n",
       "    .dataframe tbody tr th {\n",
       "        vertical-align: top;\n",
       "    }\n",
       "\n",
       "    .dataframe thead th {\n",
       "        text-align: right;\n",
       "    }\n",
       "</style>\n",
       "<table border=\"1\" class=\"dataframe\">\n",
       "  <thead>\n",
       "    <tr style=\"text-align: right;\">\n",
       "      <th>COUNTY NAME</th>\n",
       "      <th>Alachua</th>\n",
       "      <th>Baker</th>\n",
       "      <th>Bay</th>\n",
       "      <th>Bradford</th>\n",
       "      <th>Brevard</th>\n",
       "      <th>Broward</th>\n",
       "      <th>Calhoun</th>\n",
       "      <th>Charlotte</th>\n",
       "      <th>Citrus</th>\n",
       "      <th>Clay</th>\n",
       "      <th>...</th>\n",
       "      <th>St. Johns</th>\n",
       "      <th>St. Lucie</th>\n",
       "      <th>Sumter</th>\n",
       "      <th>Suwannee</th>\n",
       "      <th>Taylor</th>\n",
       "      <th>Union</th>\n",
       "      <th>Volusia</th>\n",
       "      <th>Wakulla</th>\n",
       "      <th>Walton</th>\n",
       "      <th>Washington</th>\n",
       "    </tr>\n",
       "    <tr>\n",
       "      <th>Year</th>\n",
       "      <th></th>\n",
       "      <th></th>\n",
       "      <th></th>\n",
       "      <th></th>\n",
       "      <th></th>\n",
       "      <th></th>\n",
       "      <th></th>\n",
       "      <th></th>\n",
       "      <th></th>\n",
       "      <th></th>\n",
       "      <th></th>\n",
       "      <th></th>\n",
       "      <th></th>\n",
       "      <th></th>\n",
       "      <th></th>\n",
       "      <th></th>\n",
       "      <th></th>\n",
       "      <th></th>\n",
       "      <th></th>\n",
       "      <th></th>\n",
       "      <th></th>\n",
       "    </tr>\n",
       "  </thead>\n",
       "  <tbody>\n",
       "    <tr>\n",
       "      <th>1998</th>\n",
       "      <td>4.149229</td>\n",
       "      <td>1.860010</td>\n",
       "      <td>5.234851</td>\n",
       "      <td>1.057840</td>\n",
       "      <td>4.539205</td>\n",
       "      <td>3.720192</td>\n",
       "      <td>3.742271</td>\n",
       "      <td>4.460932</td>\n",
       "      <td>4.369369</td>\n",
       "      <td>4.041819</td>\n",
       "      <td>...</td>\n",
       "      <td>0.793819</td>\n",
       "      <td>1.535576</td>\n",
       "      <td>3.006708</td>\n",
       "      <td>2.624293</td>\n",
       "      <td>2.433993</td>\n",
       "      <td>0.925291</td>\n",
       "      <td>5.250042</td>\n",
       "      <td>3.759800</td>\n",
       "      <td>2.351585</td>\n",
       "      <td>0.552147</td>\n",
       "    </tr>\n",
       "    <tr>\n",
       "      <th>1999</th>\n",
       "      <td>4.829160</td>\n",
       "      <td>2.480697</td>\n",
       "      <td>4.308792</td>\n",
       "      <td>1.157567</td>\n",
       "      <td>6.271837</td>\n",
       "      <td>3.500740</td>\n",
       "      <td>1.776316</td>\n",
       "      <td>3.473103</td>\n",
       "      <td>2.899625</td>\n",
       "      <td>3.629393</td>\n",
       "      <td>...</td>\n",
       "      <td>0.919233</td>\n",
       "      <td>1.441806</td>\n",
       "      <td>2.676056</td>\n",
       "      <td>2.121285</td>\n",
       "      <td>2.268977</td>\n",
       "      <td>2.059419</td>\n",
       "      <td>3.405271</td>\n",
       "      <td>4.904162</td>\n",
       "      <td>2.880329</td>\n",
       "      <td>1.604387</td>\n",
       "    </tr>\n",
       "    <tr>\n",
       "      <th>2000</th>\n",
       "      <td>4.998176</td>\n",
       "      <td>2.550357</td>\n",
       "      <td>4.364812</td>\n",
       "      <td>1.031649</td>\n",
       "      <td>4.209743</td>\n",
       "      <td>3.310760</td>\n",
       "      <td>0.265957</td>\n",
       "      <td>2.813230</td>\n",
       "      <td>2.602558</td>\n",
       "      <td>2.641757</td>\n",
       "      <td>...</td>\n",
       "      <td>0.953118</td>\n",
       "      <td>1.498602</td>\n",
       "      <td>1.992032</td>\n",
       "      <td>2.361457</td>\n",
       "      <td>2.565190</td>\n",
       "      <td>1.597553</td>\n",
       "      <td>3.941056</td>\n",
       "      <td>4.852716</td>\n",
       "      <td>3.363533</td>\n",
       "      <td>2.259772</td>\n",
       "    </tr>\n",
       "    <tr>\n",
       "      <th>2001</th>\n",
       "      <td>5.524392</td>\n",
       "      <td>2.773699</td>\n",
       "      <td>4.969846</td>\n",
       "      <td>1.684211</td>\n",
       "      <td>4.553674</td>\n",
       "      <td>3.310276</td>\n",
       "      <td>3.304940</td>\n",
       "      <td>4.927370</td>\n",
       "      <td>3.099542</td>\n",
       "      <td>2.009789</td>\n",
       "      <td>...</td>\n",
       "      <td>0.761985</td>\n",
       "      <td>1.676797</td>\n",
       "      <td>2.253827</td>\n",
       "      <td>2.048264</td>\n",
       "      <td>2.413499</td>\n",
       "      <td>1.740614</td>\n",
       "      <td>4.282270</td>\n",
       "      <td>2.928453</td>\n",
       "      <td>2.400617</td>\n",
       "      <td>1.558389</td>\n",
       "    </tr>\n",
       "    <tr>\n",
       "      <th>2002</th>\n",
       "      <td>3.066648</td>\n",
       "      <td>2.787512</td>\n",
       "      <td>5.405105</td>\n",
       "      <td>2.044808</td>\n",
       "      <td>4.731325</td>\n",
       "      <td>3.288702</td>\n",
       "      <td>1.915840</td>\n",
       "      <td>5.276622</td>\n",
       "      <td>3.214729</td>\n",
       "      <td>2.985182</td>\n",
       "      <td>...</td>\n",
       "      <td>0.267213</td>\n",
       "      <td>2.019664</td>\n",
       "      <td>2.158622</td>\n",
       "      <td>1.765594</td>\n",
       "      <td>2.537961</td>\n",
       "      <td>2.286902</td>\n",
       "      <td>5.155053</td>\n",
       "      <td>1.375020</td>\n",
       "      <td>3.826937</td>\n",
       "      <td>1.376618</td>\n",
       "    </tr>\n",
       "  </tbody>\n",
       "</table>\n",
       "<p>5 rows × 67 columns</p>\n",
       "</div>"
      ],
      "text/plain": [
       "COUNTY NAME   Alachua     Baker       Bay  Bradford   Brevard   Broward  \\\n",
       "Year                                                                      \n",
       "1998         4.149229  1.860010  5.234851  1.057840  4.539205  3.720192   \n",
       "1999         4.829160  2.480697  4.308792  1.157567  6.271837  3.500740   \n",
       "2000         4.998176  2.550357  4.364812  1.031649  4.209743  3.310760   \n",
       "2001         5.524392  2.773699  4.969846  1.684211  4.553674  3.310276   \n",
       "2002         3.066648  2.787512  5.405105  2.044808  4.731325  3.288702   \n",
       "\n",
       "COUNTY NAME   Calhoun  Charlotte    Citrus      Clay     ...      St. Johns  \\\n",
       "Year                                                     ...                  \n",
       "1998         3.742271   4.460932  4.369369  4.041819     ...       0.793819   \n",
       "1999         1.776316   3.473103  2.899625  3.629393     ...       0.919233   \n",
       "2000         0.265957   2.813230  2.602558  2.641757     ...       0.953118   \n",
       "2001         3.304940   4.927370  3.099542  2.009789     ...       0.761985   \n",
       "2002         1.915840   5.276622  3.214729  2.985182     ...       0.267213   \n",
       "\n",
       "COUNTY NAME  St. Lucie    Sumter  Suwannee    Taylor     Union   Volusia  \\\n",
       "Year                                                                       \n",
       "1998          1.535576  3.006708  2.624293  2.433993  0.925291  5.250042   \n",
       "1999          1.441806  2.676056  2.121285  2.268977  2.059419  3.405271   \n",
       "2000          1.498602  1.992032  2.361457  2.565190  1.597553  3.941056   \n",
       "2001          1.676797  2.253827  2.048264  2.413499  1.740614  4.282270   \n",
       "2002          2.019664  2.158622  1.765594  2.537961  2.286902  5.155053   \n",
       "\n",
       "COUNTY NAME   Wakulla    Walton  Washington  \n",
       "Year                                         \n",
       "1998         3.759800  2.351585    0.552147  \n",
       "1999         4.904162  2.880329    1.604387  \n",
       "2000         4.852716  3.363533    2.259772  \n",
       "2001         2.928453  2.400617    1.558389  \n",
       "2002         1.375020  3.826937    1.376618  \n",
       "\n",
       "[5 rows x 67 columns]"
      ]
     },
     "execution_count": 8,
     "metadata": {},
     "output_type": "execute_result"
    }
   ],
   "source": [
    "\n",
    "#pivot table \n",
    "\n",
    "crime_pivot= FL_juv_crime_rate.pivot(index='Year',columns='COUNTY NAME',values='CRIME RATE')\n",
    "crime_pivot.head()"
   ]
  },
  {
   "cell_type": "code",
   "execution_count": 9,
   "metadata": {},
   "outputs": [
    {
     "data": {
      "image/png": "[encoded data removed]",
      "text/plain": [
       "<Figure size 1080x432 with 1 Axes>"
      ]
     },
     "metadata": {},
     "output_type": "display_data"
    }
   ],
   "source": [
    "#Bar plot of average juvenile crime rate by state\n",
    "avg_crime[['CRIME RATE']].plot(figsize=(15, 6),kind='bar')\n",
    "plt.show()"
   ]
  },
  {
   "cell_type": "code",
   "execution_count": 10,
   "metadata": {},
   "outputs": [],
   "source": [
    "\n",
    "avg_crime.reset_index(inplace=True)\n",
    "\n",
    "#The 5 districs with the largest juvenile crime rates\n",
    "top_5_counties = list(avg_crime.sort_values(by='CRIME RATE',ascending=False)['COUNTY NAME'].head(5))"
   ]
  },
  {
   "cell_type": "code",
   "execution_count": 11,
   "metadata": {},
   "outputs": [
    {
     "data": {
      "text/plain": [
       "['Seminole', 'Bay', 'Brevard', 'Charlotte', 'Martin']"
      ]
     },
     "execution_count": 11,
     "metadata": {},
     "output_type": "execute_result"
    }
   ],
   "source": [
    "top_5_counties"
   ]
  },
  {
   "cell_type": "code",
   "execution_count": 12,
   "metadata": {},
   "outputs": [
    {
     "data": {
      "text/plain": [
       "<matplotlib.legend.Legend at 0x1695e1c27f0>"
      ]
     },
     "execution_count": 12,
     "metadata": {},
     "output_type": "execute_result"
    },
    {
     "data": {
      "image/png": "[encoded data removed]",
      "text/plain": [
       "<Figure size 1440x576 with 1 Axes>"
      ]
     },
     "metadata": {},
     "output_type": "display_data"
    }
   ],
   "source": [
    "\n",
    "#Plot for top 5 districts/counties\n",
    "\n",
    "plt.figure(figsize=(20, 8))\n",
    "for d in top_5_counties:\n",
    "    plt.plot(crime_pivot.index, crime_pivot[d], label = d)\n",
    "\n",
    "plt.xlabel('Year')\n",
    "plt.ylabel('Juvenile Crime Rate')\n",
    "plt.xticks(np.arange(min(crime_pivot.index), max(crime_pivot.index)+1, 1.0))\n",
    "plt.title('Juvenile Crime Rate Over Time for Top 5 Counties ')\n",
    "plt.legend()"
   ]
  },
  {
   "cell_type": "code",
   "execution_count": 13,
   "metadata": {},
   "outputs": [],
   "source": [
    "#Have both data set with the same range of years: 1998-2016\n",
    "FL_juv_crime_rate = FL_juv_crime_rate.loc[FL_juv_crime_rate['Year'] != 2017]\n"
   ]
  },
  {
   "cell_type": "code",
   "execution_count": 14,
   "metadata": {},
   "outputs": [],
   "source": [
    "#Pull out county names from the school districts\n",
    "std_districts_FL['COUNTY NAME'] = std_districts_FL.NAME.str.title().str.split().str[0]\n"
   ]
  },
  {
   "cell_type": "code",
   "execution_count": 15,
   "metadata": {},
   "outputs": [],
   "source": [
    "#This loop deals with the few exceptions that weren't covered in the previous command\n",
    "\n",
    "for i, row in std_districts_FL.iterrows():\n",
    "    for x in [\"ST JOHNS\", \"ST LUCIE\", \"SANTA ROSA\", \"DE SOTO\", \"INDIAN RIVER\"]:\n",
    "        if x in std_districts_FL['NAME'][i]:\n",
    "            std_districts_FL.at[i,'COUNTY NAME'] = x   \n",
    "        "
   ]
  },
  {
   "cell_type": "code",
   "execution_count": 16,
   "metadata": {},
   "outputs": [
    {
     "data": {
      "text/plain": [
       "['NAME',\n",
       " 'Year',\n",
       " 'TOTALREV',\n",
       " 'TFEDREV',\n",
       " 'TSTREV',\n",
       " 'TLOCREV',\n",
       " 'TOTALEXP',\n",
       " 'TCURINST',\n",
       " 'TCURSSVC',\n",
       " 'TCURONON',\n",
       " 'TCAPOUT',\n",
       " 'COUNTY NAME',\n",
       " 'TOTAL ARRESTS',\n",
       " 'JUVENILE POP',\n",
       " 'CRIME RATE']"
      ]
     },
     "execution_count": 16,
     "metadata": {},
     "output_type": "execute_result"
    }
   ],
   "source": [
    "#Merge finances data set with the juvenile crime data set on the appropriate county and year\n",
    "\n",
    "std_districts_FL.rename(columns={'YRDATA': 'Year'}, inplace=True)\n",
    "juv_crime_vs_finances = std_districts_FL.merge(FL_juv_crime_rate, on=[\"COUNTY NAME\",\"Year\"], how = 'inner')\n",
    "\n",
    "list(juv_crime_vs_finances)"
   ]
  },
  {
   "cell_type": "code",
   "execution_count": 17,
   "metadata": {},
   "outputs": [],
   "source": [
    "#Reorder data set so that county and year are the leftmost columns\n",
    "\n",
    "cols = ['COUNTY NAME',\n",
    "     'Year',\n",
    "     'TOTALREV',\n",
    "     'TFEDREV',\n",
    "     'TSTREV',\n",
    "     'TLOCREV',\n",
    "     'TOTALEXP',\n",
    "     'TCURINST',\n",
    "     'TCURSSVC',\n",
    "     'TCURONON',\n",
    "     'TCAPOUT',\n",
    "     'TOTAL ARRESTS',\n",
    "     'JUVENILE POP',\n",
    "     'CRIME RATE']\n",
    "\n",
    "juv_crime_vs_finances = juv_crime_vs_finances[cols]"
   ]
  },
  {
   "cell_type": "code",
   "execution_count": 18,
   "metadata": {},
   "outputs": [
    {
     "data": {
      "text/html": [
       "<div>\n",
       "<style scoped>\n",
       "    .dataframe tbody tr th:only-of-type {\n",
       "        vertical-align: middle;\n",
       "    }\n",
       "\n",
       "    .dataframe tbody tr th {\n",
       "        vertical-align: top;\n",
       "    }\n",
       "\n",
       "    .dataframe thead th {\n",
       "        text-align: right;\n",
       "    }\n",
       "</style>\n",
       "<table border=\"1\" class=\"dataframe\">\n",
       "  <thead>\n",
       "    <tr style=\"text-align: right;\">\n",
       "      <th></th>\n",
       "      <th>COUNTY NAME</th>\n",
       "      <th>Year</th>\n",
       "      <th>TOTALREV</th>\n",
       "      <th>TFEDREV</th>\n",
       "      <th>TSTREV</th>\n",
       "      <th>TLOCREV</th>\n",
       "      <th>TOTALEXP</th>\n",
       "      <th>TCURINST</th>\n",
       "      <th>TCURSSVC</th>\n",
       "      <th>TCURONON</th>\n",
       "      <th>TCAPOUT</th>\n",
       "      <th>TOTAL ARRESTS</th>\n",
       "      <th>JUVENILE POP</th>\n",
       "      <th>CRIME RATE</th>\n",
       "    </tr>\n",
       "  </thead>\n",
       "  <tbody>\n",
       "    <tr>\n",
       "      <th>0</th>\n",
       "      <td>Alachua</td>\n",
       "      <td>2016</td>\n",
       "      <td>9.702167</td>\n",
       "      <td>1.270125</td>\n",
       "      <td>4.333970</td>\n",
       "      <td>4.098072</td>\n",
       "      <td>9.340386</td>\n",
       "      <td>4.968435</td>\n",
       "      <td>3.352738</td>\n",
       "      <td>0.626344</td>\n",
       "      <td>0.328715</td>\n",
       "      <td>730</td>\n",
       "      <td>47667</td>\n",
       "      <td>1.531458</td>\n",
       "    </tr>\n",
       "    <tr>\n",
       "      <th>1</th>\n",
       "      <td>Baker</td>\n",
       "      <td>2016</td>\n",
       "      <td>8.530388</td>\n",
       "      <td>0.965414</td>\n",
       "      <td>6.065374</td>\n",
       "      <td>1.499600</td>\n",
       "      <td>8.362055</td>\n",
       "      <td>4.367453</td>\n",
       "      <td>3.266693</td>\n",
       "      <td>0.565974</td>\n",
       "      <td>0.145542</td>\n",
       "      <td>77</td>\n",
       "      <td>6877</td>\n",
       "      <td>1.119674</td>\n",
       "    </tr>\n",
       "    <tr>\n",
       "      <th>2</th>\n",
       "      <td>Bay</td>\n",
       "      <td>2016</td>\n",
       "      <td>9.979338</td>\n",
       "      <td>0.934416</td>\n",
       "      <td>3.981534</td>\n",
       "      <td>5.063389</td>\n",
       "      <td>9.527591</td>\n",
       "      <td>5.411936</td>\n",
       "      <td>2.667003</td>\n",
       "      <td>0.541305</td>\n",
       "      <td>0.797883</td>\n",
       "      <td>1234</td>\n",
       "      <td>39597</td>\n",
       "      <td>3.116398</td>\n",
       "    </tr>\n",
       "    <tr>\n",
       "      <th>3</th>\n",
       "      <td>Bradford</td>\n",
       "      <td>2016</td>\n",
       "      <td>10.011229</td>\n",
       "      <td>1.574860</td>\n",
       "      <td>5.697130</td>\n",
       "      <td>2.739239</td>\n",
       "      <td>9.352776</td>\n",
       "      <td>5.072052</td>\n",
       "      <td>3.243606</td>\n",
       "      <td>0.945415</td>\n",
       "      <td>0.083593</td>\n",
       "      <td>60</td>\n",
       "      <td>5393</td>\n",
       "      <td>1.112553</td>\n",
       "    </tr>\n",
       "    <tr>\n",
       "      <th>4</th>\n",
       "      <td>Brevard</td>\n",
       "      <td>2016</td>\n",
       "      <td>9.968929</td>\n",
       "      <td>1.037302</td>\n",
       "      <td>4.560299</td>\n",
       "      <td>4.371328</td>\n",
       "      <td>9.390130</td>\n",
       "      <td>5.292529</td>\n",
       "      <td>2.829184</td>\n",
       "      <td>0.455725</td>\n",
       "      <td>0.526518</td>\n",
       "      <td>2250</td>\n",
       "      <td>107226</td>\n",
       "      <td>2.098372</td>\n",
       "    </tr>\n",
       "  </tbody>\n",
       "</table>\n",
       "</div>"
      ],
      "text/plain": [
       "  COUNTY NAME  Year   TOTALREV   TFEDREV    TSTREV   TLOCREV  TOTALEXP  \\\n",
       "0     Alachua  2016   9.702167  1.270125  4.333970  4.098072  9.340386   \n",
       "1       Baker  2016   8.530388  0.965414  6.065374  1.499600  8.362055   \n",
       "2         Bay  2016   9.979338  0.934416  3.981534  5.063389  9.527591   \n",
       "3    Bradford  2016  10.011229  1.574860  5.697130  2.739239  9.352776   \n",
       "4     Brevard  2016   9.968929  1.037302  4.560299  4.371328  9.390130   \n",
       "\n",
       "   TCURINST  TCURSSVC  TCURONON   TCAPOUT  TOTAL ARRESTS  JUVENILE POP  \\\n",
       "0  4.968435  3.352738  0.626344  0.328715            730         47667   \n",
       "1  4.367453  3.266693  0.565974  0.145542             77          6877   \n",
       "2  5.411936  2.667003  0.541305  0.797883           1234         39597   \n",
       "3  5.072052  3.243606  0.945415  0.083593             60          5393   \n",
       "4  5.292529  2.829184  0.455725  0.526518           2250        107226   \n",
       "\n",
       "   CRIME RATE  \n",
       "0    1.531458  \n",
       "1    1.119674  \n",
       "2    3.116398  \n",
       "3    1.112553  \n",
       "4    2.098372  "
      ]
     },
     "execution_count": 18,
     "metadata": {},
     "output_type": "execute_result"
    }
   ],
   "source": [
    "#Preview merged data set\n",
    "\n",
    "juv_crime_vs_finances.head()"
   ]
  },
  {
   "cell_type": "code",
   "execution_count": 19,
   "metadata": {},
   "outputs": [],
   "source": [
    "#Save merged data set as csv file\n",
    "\n",
    "juv_crime_vs_finances.to_csv(r\"..\\Data\\Florida data\\Merged_Datasets\\juvenile_crime_vs_finances.csv\")"
   ]
  },
  {
   "cell_type": "code",
   "execution_count": 20,
   "metadata": {},
   "outputs": [
    {
     "data": {
      "text/plain": [
       "<seaborn.axisgrid.FacetGrid at 0x1695e08cd68>"
      ]
     },
     "execution_count": 20,
     "metadata": {},
     "output_type": "execute_result"
    },
    {
     "data": {
      "image/png": "[encoded data removed]",
      "text/plain": [
       "<Figure size 360x360 with 1 Axes>"
      ]
     },
     "metadata": {},
     "output_type": "display_data"
    }
   ],
   "source": [
    "\n",
    "sns.lmplot(x = \"Year\", y = \"CRIME RATE\", data = juv_crime_vs_finances).set(xticks= [ 2000, 2005, 2010, 2015])"
   ]
  },
  {
   "cell_type": "code",
   "execution_count": 21,
   "metadata": {},
   "outputs": [
    {
     "name": "stdout",
     "output_type": "stream",
     "text": [
      "    COUNTY NAME  Year  TOTALREV   TFEDREV    TSTREV   TLOCREV  TOTALEXP  \\\n",
      "942      Nassau  2003  6.683661  0.501377  2.910377  3.271907  6.265167   \n",
      "\n",
      "     TCURINST  TCURSSVC  TCURONON   TCAPOUT  TOTAL ARRESTS  JUVENILE POP  \\\n",
      "942  3.088104   2.10187  0.329156  0.712143           2357         14934   \n",
      "\n",
      "     CRIME RATE  \n",
      "942   15.782778  \n"
     ]
    }
   ],
   "source": [
    "#Identify the outlier\n",
    "\n",
    "print(juv_crime_vs_finances.loc[juv_crime_vs_finances['CRIME RATE'] > 10])"
   ]
  },
  {
   "cell_type": "code",
   "execution_count": 22,
   "metadata": {},
   "outputs": [
    {
     "data": {
      "text/html": [
       "<table class=\"simpletable\">\n",
       "<caption>OLS Regression Results</caption>\n",
       "<tr>\n",
       "  <th>Dep. Variable:</th>       <td>CRIME RATE</td>    <th>  R-squared:         </th> <td>   0.826</td> \n",
       "</tr>\n",
       "<tr>\n",
       "  <th>Model:</th>                   <td>OLS</td>       <th>  Adj. R-squared:    </th> <td>   0.824</td> \n",
       "</tr>\n",
       "<tr>\n",
       "  <th>Method:</th>             <td>Least Squares</td>  <th>  F-statistic:       </th> <td>   447.9</td> \n",
       "</tr>\n",
       "<tr>\n",
       "  <th>Date:</th>             <td>Sun, 02 Dec 2018</td> <th>  Prob (F-statistic):</th> <td>1.73e-280</td>\n",
       "</tr>\n",
       "<tr>\n",
       "  <th>Time:</th>                 <td>23:56:07</td>     <th>  Log-Likelihood:    </th> <td> -1233.0</td> \n",
       "</tr>\n",
       "<tr>\n",
       "  <th>No. Observations:</th>      <td>   762</td>      <th>  AIC:               </th> <td>   2482.</td> \n",
       "</tr>\n",
       "<tr>\n",
       "  <th>Df Residuals:</th>          <td>   754</td>      <th>  BIC:               </th> <td>   2519.</td> \n",
       "</tr>\n",
       "<tr>\n",
       "  <th>Df Model:</th>              <td>     8</td>      <th>                     </th>     <td> </td>    \n",
       "</tr>\n",
       "<tr>\n",
       "  <th>Covariance Type:</th>      <td>nonrobust</td>    <th>                     </th>     <td> </td>    \n",
       "</tr>\n",
       "</table>\n",
       "<table class=\"simpletable\">\n",
       "<tr>\n",
       "      <td></td>        <th>coef</th>     <th>std err</th>      <th>t</th>      <th>P>|t|</th>  <th>[0.025</th>    <th>0.975]</th>  \n",
       "</tr>\n",
       "<tr>\n",
       "  <th>TFEDREV</th>  <td>   -0.0339</td> <td>    0.155</td> <td>   -0.218</td> <td> 0.827</td> <td>   -0.339</td> <td>    0.271</td>\n",
       "</tr>\n",
       "<tr>\n",
       "  <th>TSTREV</th>   <td>   -0.0872</td> <td>    0.063</td> <td>   -1.381</td> <td> 0.168</td> <td>   -0.211</td> <td>    0.037</td>\n",
       "</tr>\n",
       "<tr>\n",
       "  <th>TLOCREV</th>  <td>    0.1535</td> <td>    0.063</td> <td>    2.441</td> <td> 0.015</td> <td>    0.030</td> <td>    0.277</td>\n",
       "</tr>\n",
       "<tr>\n",
       "  <th>TCURINST</th> <td>   -0.2800</td> <td>    0.096</td> <td>   -2.913</td> <td> 0.004</td> <td>   -0.469</td> <td>   -0.091</td>\n",
       "</tr>\n",
       "<tr>\n",
       "  <th>TCURSSVC</th> <td>   -0.6003</td> <td>    0.136</td> <td>   -4.402</td> <td> 0.000</td> <td>   -0.868</td> <td>   -0.333</td>\n",
       "</tr>\n",
       "<tr>\n",
       "  <th>TCURONON</th> <td>   -0.4344</td> <td>    0.249</td> <td>   -1.742</td> <td> 0.082</td> <td>   -0.924</td> <td>    0.055</td>\n",
       "</tr>\n",
       "<tr>\n",
       "  <th>TCAPOUT</th>  <td>    0.0704</td> <td>    0.057</td> <td>    1.235</td> <td> 0.217</td> <td>   -0.041</td> <td>    0.182</td>\n",
       "</tr>\n",
       "<tr>\n",
       "  <th>Year</th>     <td>    0.0028</td> <td>    0.000</td> <td>   20.873</td> <td> 0.000</td> <td>    0.002</td> <td>    0.003</td>\n",
       "</tr>\n",
       "</table>\n",
       "<table class=\"simpletable\">\n",
       "<tr>\n",
       "  <th>Omnibus:</th>       <td>219.024</td> <th>  Durbin-Watson:     </th> <td>   1.927</td> \n",
       "</tr>\n",
       "<tr>\n",
       "  <th>Prob(Omnibus):</th> <td> 0.000</td>  <th>  Jarque-Bera (JB):  </th> <td> 786.592</td> \n",
       "</tr>\n",
       "<tr>\n",
       "  <th>Skew:</th>          <td> 1.332</td>  <th>  Prob(JB):          </th> <td>1.56e-171</td>\n",
       "</tr>\n",
       "<tr>\n",
       "  <th>Kurtosis:</th>      <td> 7.205</td>  <th>  Cond. No.          </th> <td>1.16e+04</td> \n",
       "</tr>\n",
       "</table><br/><br/>Warnings:<br/>[1] Standard Errors assume that the covariance matrix of the errors is correctly specified.<br/>[2] The condition number is large, 1.16e+04. This might indicate that there are<br/>strong multicollinearity or other numerical problems."
      ],
      "text/plain": [
       "<class 'statsmodels.iolib.summary.Summary'>\n",
       "\"\"\"\n",
       "                            OLS Regression Results                            \n",
       "==============================================================================\n",
       "Dep. Variable:             CRIME RATE   R-squared:                       0.826\n",
       "Model:                            OLS   Adj. R-squared:                  0.824\n",
       "Method:                 Least Squares   F-statistic:                     447.9\n",
       "Date:                Sun, 02 Dec 2018   Prob (F-statistic):          1.73e-280\n",
       "Time:                        23:56:07   Log-Likelihood:                -1233.0\n",
       "No. Observations:                 762   AIC:                             2482.\n",
       "Df Residuals:                     754   BIC:                             2519.\n",
       "Df Model:                           8                                         \n",
       "Covariance Type:            nonrobust                                         \n",
       "==============================================================================\n",
       "                 coef    std err          t      P>|t|      [0.025      0.975]\n",
       "------------------------------------------------------------------------------\n",
       "TFEDREV       -0.0339      0.155     -0.218      0.827      -0.339       0.271\n",
       "TSTREV        -0.0872      0.063     -1.381      0.168      -0.211       0.037\n",
       "TLOCREV        0.1535      0.063      2.441      0.015       0.030       0.277\n",
       "TCURINST      -0.2800      0.096     -2.913      0.004      -0.469      -0.091\n",
       "TCURSSVC      -0.6003      0.136     -4.402      0.000      -0.868      -0.333\n",
       "TCURONON      -0.4344      0.249     -1.742      0.082      -0.924       0.055\n",
       "TCAPOUT        0.0704      0.057      1.235      0.217      -0.041       0.182\n",
       "Year           0.0028      0.000     20.873      0.000       0.002       0.003\n",
       "==============================================================================\n",
       "Omnibus:                      219.024   Durbin-Watson:                   1.927\n",
       "Prob(Omnibus):                  0.000   Jarque-Bera (JB):              786.592\n",
       "Skew:                           1.332   Prob(JB):                    1.56e-171\n",
       "Kurtosis:                       7.205   Cond. No.                     1.16e+04\n",
       "==============================================================================\n",
       "\n",
       "Warnings:\n",
       "[1] Standard Errors assume that the covariance matrix of the errors is correctly specified.\n",
       "[2] The condition number is large, 1.16e+04. This might indicate that there are\n",
       "strong multicollinearity or other numerical problems.\n",
       "\"\"\""
      ]
     },
     "execution_count": 22,
     "metadata": {},
     "output_type": "execute_result"
    }
   ],
   "source": [
    "\n",
    "#Linear model without a constant\n",
    "\n",
    "cols_model = ['TFEDREV',\n",
    "     'TSTREV',\n",
    "     'TLOCREV',\n",
    "     'TCURINST',\n",
    "     'TCURSSVC',\n",
    "     'TCURONON',\n",
    "     'TCAPOUT',\n",
    "     'Year']\n",
    "\n",
    "X = juv_crime_vs_finances[cols_model]\n",
    "y = juv_crime_vs_finances[\"CRIME RATE\"]\n",
    "\n",
    "#Create test/train data sets\n",
    "X_train, X_test, y_train, y_test = train_test_split(X, y, test_size=0.33, random_state=42)\n",
    "\n",
    "model = sm.OLS(y_train, X_train).fit()\n",
    "\n",
    "# Print out the statistics\n",
    "model.summary()\n",
    "\n"
   ]
  },
  {
   "cell_type": "code",
   "execution_count": 23,
   "metadata": {},
   "outputs": [
    {
     "name": "stdout",
     "output_type": "stream",
     "text": [
      "RMSE:1.2977555448396996\n"
     ]
    }
   ],
   "source": [
    "# make the predictions by the model\n",
    "\n",
    "predictions = model.predict(X_test) \n",
    "\n",
    "rmse = sqrt(mean_squared_error(y_test, predictions))\n",
    "\n",
    "print('RMSE:' + str(rmse))\n",
    "\n",
    "\n"
   ]
  },
  {
   "cell_type": "code",
   "execution_count": 24,
   "metadata": {},
   "outputs": [
    {
     "name": "stdout",
     "output_type": "stream",
     "text": [
      "RMSE:1.293750047565588\n"
     ]
    },
    {
     "data": {
      "text/html": [
       "<table class=\"simpletable\">\n",
       "<caption>OLS Regression Results</caption>\n",
       "<tr>\n",
       "  <th>Dep. Variable:</th>       <td>CRIME RATE</td>    <th>  R-squared:         </th> <td>   0.825</td> \n",
       "</tr>\n",
       "<tr>\n",
       "  <th>Model:</th>                   <td>OLS</td>       <th>  Adj. R-squared:    </th> <td>   0.824</td> \n",
       "</tr>\n",
       "<tr>\n",
       "  <th>Method:</th>             <td>Least Squares</td>  <th>  F-statistic:       </th> <td>   891.5</td> \n",
       "</tr>\n",
       "<tr>\n",
       "  <th>Date:</th>             <td>Sun, 02 Dec 2018</td> <th>  Prob (F-statistic):</th> <td>7.84e-285</td>\n",
       "</tr>\n",
       "<tr>\n",
       "  <th>Time:</th>                 <td>23:56:07</td>     <th>  Log-Likelihood:    </th> <td> -1236.2</td> \n",
       "</tr>\n",
       "<tr>\n",
       "  <th>No. Observations:</th>      <td>   762</td>      <th>  AIC:               </th> <td>   2480.</td> \n",
       "</tr>\n",
       "<tr>\n",
       "  <th>Df Residuals:</th>          <td>   758</td>      <th>  BIC:               </th> <td>   2499.</td> \n",
       "</tr>\n",
       "<tr>\n",
       "  <th>Df Model:</th>              <td>     4</td>      <th>                     </th>     <td> </td>    \n",
       "</tr>\n",
       "<tr>\n",
       "  <th>Covariance Type:</th>      <td>nonrobust</td>    <th>                     </th>     <td> </td>    \n",
       "</tr>\n",
       "</table>\n",
       "<table class=\"simpletable\">\n",
       "<tr>\n",
       "      <td></td>        <th>coef</th>     <th>std err</th>      <th>t</th>      <th>P>|t|</th>  <th>[0.025</th>    <th>0.975]</th>  \n",
       "</tr>\n",
       "<tr>\n",
       "  <th>TLOCREV</th>  <td>    0.2366</td> <td>    0.026</td> <td>    9.239</td> <td> 0.000</td> <td>    0.186</td> <td>    0.287</td>\n",
       "</tr>\n",
       "<tr>\n",
       "  <th>TCURINST</th> <td>   -0.3743</td> <td>    0.077</td> <td>   -4.862</td> <td> 0.000</td> <td>   -0.525</td> <td>   -0.223</td>\n",
       "</tr>\n",
       "<tr>\n",
       "  <th>TCURSSVC</th> <td>   -0.7078</td> <td>    0.101</td> <td>   -7.004</td> <td> 0.000</td> <td>   -0.906</td> <td>   -0.509</td>\n",
       "</tr>\n",
       "<tr>\n",
       "  <th>Year</th>     <td>    0.0027</td> <td>    0.000</td> <td>   23.825</td> <td> 0.000</td> <td>    0.002</td> <td>    0.003</td>\n",
       "</tr>\n",
       "</table>\n",
       "<table class=\"simpletable\">\n",
       "<tr>\n",
       "  <th>Omnibus:</th>       <td>224.532</td> <th>  Durbin-Watson:     </th> <td>   1.915</td> \n",
       "</tr>\n",
       "<tr>\n",
       "  <th>Prob(Omnibus):</th> <td> 0.000</td>  <th>  Jarque-Bera (JB):  </th> <td> 833.118</td> \n",
       "</tr>\n",
       "<tr>\n",
       "  <th>Skew:</th>          <td> 1.355</td>  <th>  Prob(JB):          </th> <td>1.23e-181</td>\n",
       "</tr>\n",
       "<tr>\n",
       "  <th>Kurtosis:</th>      <td> 7.347</td>  <th>  Cond. No.          </th> <td>5.31e+03</td> \n",
       "</tr>\n",
       "</table><br/><br/>Warnings:<br/>[1] Standard Errors assume that the covariance matrix of the errors is correctly specified.<br/>[2] The condition number is large, 5.31e+03. This might indicate that there are<br/>strong multicollinearity or other numerical problems."
      ],
      "text/plain": [
       "<class 'statsmodels.iolib.summary.Summary'>\n",
       "\"\"\"\n",
       "                            OLS Regression Results                            \n",
       "==============================================================================\n",
       "Dep. Variable:             CRIME RATE   R-squared:                       0.825\n",
       "Model:                            OLS   Adj. R-squared:                  0.824\n",
       "Method:                 Least Squares   F-statistic:                     891.5\n",
       "Date:                Sun, 02 Dec 2018   Prob (F-statistic):          7.84e-285\n",
       "Time:                        23:56:07   Log-Likelihood:                -1236.2\n",
       "No. Observations:                 762   AIC:                             2480.\n",
       "Df Residuals:                     758   BIC:                             2499.\n",
       "Df Model:                           4                                         \n",
       "Covariance Type:            nonrobust                                         \n",
       "==============================================================================\n",
       "                 coef    std err          t      P>|t|      [0.025      0.975]\n",
       "------------------------------------------------------------------------------\n",
       "TLOCREV        0.2366      0.026      9.239      0.000       0.186       0.287\n",
       "TCURINST      -0.3743      0.077     -4.862      0.000      -0.525      -0.223\n",
       "TCURSSVC      -0.7078      0.101     -7.004      0.000      -0.906      -0.509\n",
       "Year           0.0027      0.000     23.825      0.000       0.002       0.003\n",
       "==============================================================================\n",
       "Omnibus:                      224.532   Durbin-Watson:                   1.915\n",
       "Prob(Omnibus):                  0.000   Jarque-Bera (JB):              833.118\n",
       "Skew:                           1.355   Prob(JB):                    1.23e-181\n",
       "Kurtosis:                       7.347   Cond. No.                     5.31e+03\n",
       "==============================================================================\n",
       "\n",
       "Warnings:\n",
       "[1] Standard Errors assume that the covariance matrix of the errors is correctly specified.\n",
       "[2] The condition number is large, 5.31e+03. This might indicate that there are\n",
       "strong multicollinearity or other numerical problems.\n",
       "\"\"\""
      ]
     },
     "execution_count": 24,
     "metadata": {},
     "output_type": "execute_result"
    }
   ],
   "source": [
    "#Remove features that were not relevant\n",
    "\n",
    "cols_model2 = [\n",
    "     'TLOCREV',\n",
    "     'TCURINST',\n",
    "     'TCURSSVC',\n",
    "     'Year']\n",
    "\n",
    "X = juv_crime_vs_finances[cols_model2]\n",
    "\n",
    "y = juv_crime_vs_finances[\"CRIME RATE\"]\n",
    "\n",
    "#Create train and test data sets\n",
    "X_train, X_test, y_train, y_test = train_test_split(X, y, test_size=0.33, random_state=42)\n",
    "\n",
    "model = sm.OLS(y_train, X_train).fit()\n",
    "predictions = model.predict(X_test) # make the predictions by the model\n",
    "\n",
    "rmse = sqrt(mean_squared_error(y_test, predictions))\n",
    "\n",
    "print('RMSE:' + str(rmse))\n",
    "\n",
    "# Print out the statistics\n",
    "model.summary()\n"
   ]
  },
  {
   "cell_type": "code",
   "execution_count": 25,
   "metadata": {},
   "outputs": [
    {
     "name": "stderr",
     "output_type": "stream",
     "text": [
      "C:\\Users\\lisbe\\Anaconda3\\lib\\site-packages\\matplotlib\\axes\\_axes.py:6462: UserWarning: The 'normed' kwarg is deprecated, and has been replaced by the 'density' kwarg.\n",
      "  warnings.warn(\"The 'normed' kwarg is deprecated, and has been \"\n"
     ]
    },
    {
     "data": {
      "text/plain": [
       "<matplotlib.axes._subplots.AxesSubplot at 0x1695e04a438>"
      ]
     },
     "execution_count": 25,
     "metadata": {},
     "output_type": "execute_result"
    },
    {
     "data": {
      "image/png": "[encoded data removed]",
      "text/plain": [
       "<Figure size 432x288 with 1 Axes>"
      ]
     },
     "metadata": {},
     "output_type": "display_data"
    }
   ],
   "source": [
    "residuals = predictions - y_test\n",
    "\n",
    "sns.distplot(residuals)"
   ]
  },
  {
   "cell_type": "code",
   "execution_count": 26,
   "metadata": {},
   "outputs": [
    {
     "name": "stdout",
     "output_type": "stream",
     "text": [
      "RMSE:1.3518660902261859\n"
     ]
    },
    {
     "data": {
      "text/html": [
       "<table class=\"simpletable\">\n",
       "<tr>\n",
       "       <td>Model:</td>       <td>MixedLM</td> <td>Dependent Variable:</td> <td>CRIME RATE</td>\n",
       "</tr>\n",
       "<tr>\n",
       "  <td>No. Observations:</td>   <td>762</td>         <td>Method:</td>          <td>REML</td>   \n",
       "</tr>\n",
       "<tr>\n",
       "     <td>No. Groups:</td>      <td>60</td>          <td>Scale:</td>          <td>0.5986</td>  \n",
       "</tr>\n",
       "<tr>\n",
       "  <td>Min. group size:</td>     <td>9</td>        <td>Likelihood:</td>      <td>-998.7343</td>\n",
       "</tr>\n",
       "<tr>\n",
       "  <td>Max. group size:</td>    <td>17</td>        <td>Converged:</td>          <td>Yes</td>   \n",
       "</tr>\n",
       "<tr>\n",
       "  <td>Mean group size:</td>   <td>12.7</td>            <td></td>                <td></td>     \n",
       "</tr>\n",
       "</table>\n",
       "<table class=\"simpletable\">\n",
       "<tr>\n",
       "      <td></td>       <th>Coef.</th> <th>Std.Err.</th>    <th>z</th>   <th>P>|z|</th> <th>[0.025</th> <th>0.975]</th>\n",
       "</tr>\n",
       "<tr>\n",
       "  <th>TFEDREV</th>   <td>-0.319</td>   <td>0.122</td>  <td>-2.626</td> <td>0.009</td> <td>-0.558</td> <td>-0.081</td>\n",
       "</tr>\n",
       "<tr>\n",
       "  <th>TSTREV</th>    <td>-0.020</td>   <td>0.042</td>  <td>-0.469</td> <td>0.639</td> <td>-0.102</td>  <td>0.063</td>\n",
       "</tr>\n",
       "<tr>\n",
       "  <th>TLOCREV</th>    <td>0.090</td>   <td>0.056</td>   <td>1.607</td> <td>0.108</td> <td>-0.020</td>  <td>0.201</td>\n",
       "</tr>\n",
       "<tr>\n",
       "  <th>TCURINST</th>  <td>-0.496</td>   <td>0.088</td>  <td>-5.612</td> <td>0.000</td> <td>-0.669</td> <td>-0.323</td>\n",
       "</tr>\n",
       "<tr>\n",
       "  <th>TCURSSVC</th>   <td>0.192</td>   <td>0.122</td>   <td>1.581</td> <td>0.114</td> <td>-0.046</td>  <td>0.431</td>\n",
       "</tr>\n",
       "<tr>\n",
       "  <th>TCURONON</th>  <td>-1.145</td>   <td>0.364</td>  <td>-3.144</td> <td>0.002</td> <td>-1.859</td> <td>-0.431</td>\n",
       "</tr>\n",
       "<tr>\n",
       "  <th>TCAPOUT</th>    <td>0.065</td>   <td>0.037</td>   <td>1.779</td> <td>0.075</td> <td>-0.007</td>  <td>0.137</td>\n",
       "</tr>\n",
       "<tr>\n",
       "  <th>Year</th>       <td>0.002</td>   <td>0.000</td>  <td>20.340</td> <td>0.000</td>  <td>0.002</td>  <td>0.003</td>\n",
       "</tr>\n",
       "<tr>\n",
       "  <th>Group Var</th>  <td>1.119</td>   <td>0.299</td>     <td></td>      <td></td>       <td></td>       <td></td>   \n",
       "</tr>\n",
       "</table>"
      ],
      "text/plain": [
       "<class 'statsmodels.iolib.summary2.Summary'>\n",
       "\"\"\"\n",
       "         Mixed Linear Model Regression Results\n",
       "========================================================\n",
       "Model:            MixedLM Dependent Variable: CRIME RATE\n",
       "No. Observations: 762     Method:             REML      \n",
       "No. Groups:       60      Scale:              0.5986    \n",
       "Min. group size:  9       Likelihood:         -998.7343 \n",
       "Max. group size:  17      Converged:          Yes       \n",
       "Mean group size:  12.7                                  \n",
       "--------------------------------------------------------\n",
       "              Coef.  Std.Err.   z    P>|z| [0.025 0.975]\n",
       "--------------------------------------------------------\n",
       "TFEDREV       -0.319    0.122 -2.626 0.009 -0.558 -0.081\n",
       "TSTREV        -0.020    0.042 -0.469 0.639 -0.102  0.063\n",
       "TLOCREV        0.090    0.056  1.607 0.108 -0.020  0.201\n",
       "TCURINST      -0.496    0.088 -5.612 0.000 -0.669 -0.323\n",
       "TCURSSVC       0.192    0.122  1.581 0.114 -0.046  0.431\n",
       "TCURONON      -1.145    0.364 -3.144 0.002 -1.859 -0.431\n",
       "TCAPOUT        0.065    0.037  1.779 0.075 -0.007  0.137\n",
       "Year           0.002    0.000 20.340 0.000  0.002  0.003\n",
       "Group Var      1.119    0.299                           \n",
       "========================================================\n",
       "\n",
       "\"\"\""
      ]
     },
     "execution_count": 26,
     "metadata": {},
     "output_type": "execute_result"
    }
   ],
   "source": [
    "#Mixed Linear Model: Using same test and training sets\n",
    "\n",
    "cols = ['TFEDREV',\n",
    "     'TSTREV',\n",
    "     'TLOCREV',\n",
    "     'TCURINST',\n",
    "     'TCURSSVC',\n",
    "     'TCURONON',\n",
    "     'TCAPOUT',\n",
    "      'Year',\n",
    "      'COUNTY NAME']\n",
    "\n",
    "X = juv_crime_vs_finances[cols]\n",
    "y = juv_crime_vs_finances[\"CRIME RATE\"]\n",
    "\n",
    "X_train, X_test, y_train, y_test = train_test_split(X, y, test_size=0.33, random_state=42)\n",
    "\n",
    "cols_model = ['TFEDREV',\n",
    "     'TSTREV',\n",
    "     'TLOCREV',\n",
    "     'TCURINST',\n",
    "     'TCURSSVC',\n",
    "     'TCURONON',\n",
    "     'TCAPOUT',\n",
    "      'Year']\n",
    "\n",
    "groups = X_train[\"COUNTY NAME\"]\n",
    "\n",
    "model = sm.MixedLM(endog=y_train, exog=X_train[cols_model], groups=groups).fit()\n",
    "\n",
    "predictions = model.predict(X_test[cols_model]) \n",
    "\n",
    "rmse = sqrt(mean_squared_error(y_test, predictions))\n",
    "\n",
    "print('RMSE:' + str(rmse))\n",
    "\n",
    "model.summary()\n",
    "\n"
   ]
  },
  {
   "cell_type": "code",
   "execution_count": 27,
   "metadata": {},
   "outputs": [
    {
     "name": "stdout",
     "output_type": "stream",
     "text": [
      "RMSE:1.3245595884318755\n"
     ]
    },
    {
     "data": {
      "text/html": [
       "<table class=\"simpletable\">\n",
       "<tr>\n",
       "       <td>Model:</td>       <td>MixedLM</td> <td>Dependent Variable:</td> <td>CRIME RATE</td>\n",
       "</tr>\n",
       "<tr>\n",
       "  <td>No. Observations:</td>   <td>762</td>         <td>Method:</td>          <td>REML</td>   \n",
       "</tr>\n",
       "<tr>\n",
       "     <td>No. Groups:</td>      <td>60</td>          <td>Scale:</td>          <td>0.6074</td>  \n",
       "</tr>\n",
       "<tr>\n",
       "  <td>Min. group size:</td>     <td>9</td>        <td>Likelihood:</td>      <td>-997.0904</td>\n",
       "</tr>\n",
       "<tr>\n",
       "  <td>Max. group size:</td>    <td>17</td>        <td>Converged:</td>          <td>Yes</td>   \n",
       "</tr>\n",
       "<tr>\n",
       "  <td>Mean group size:</td>   <td>12.7</td>            <td></td>                <td></td>     \n",
       "</tr>\n",
       "</table>\n",
       "<table class=\"simpletable\">\n",
       "<tr>\n",
       "      <td></td>       <th>Coef.</th> <th>Std.Err.</th>    <th>z</th>   <th>P>|z|</th> <th>[0.025</th> <th>0.975]</th>\n",
       "</tr>\n",
       "<tr>\n",
       "  <th>TLOCREV</th>    <td>0.166</td>   <td>0.043</td>   <td>3.888</td> <td>0.000</td>  <td>0.082</td>  <td>0.249</td>\n",
       "</tr>\n",
       "<tr>\n",
       "  <th>TCURINST</th>  <td>-0.561</td>   <td>0.060</td>  <td>-9.326</td> <td>0.000</td> <td>-0.679</td> <td>-0.443</td>\n",
       "</tr>\n",
       "<tr>\n",
       "  <th>TCURONON</th>  <td>-1.239</td>   <td>0.341</td>  <td>-3.638</td> <td>0.000</td> <td>-1.907</td> <td>-0.571</td>\n",
       "</tr>\n",
       "<tr>\n",
       "  <th>Year</th>       <td>0.003</td>   <td>0.000</td>  <td>24.260</td> <td>0.000</td>  <td>0.002</td>  <td>0.003</td>\n",
       "</tr>\n",
       "<tr>\n",
       "  <th>Group Var</th>  <td>1.071</td>   <td>0.279</td>     <td></td>      <td></td>       <td></td>       <td></td>   \n",
       "</tr>\n",
       "</table>"
      ],
      "text/plain": [
       "<class 'statsmodels.iolib.summary2.Summary'>\n",
       "\"\"\"\n",
       "         Mixed Linear Model Regression Results\n",
       "========================================================\n",
       "Model:            MixedLM Dependent Variable: CRIME RATE\n",
       "No. Observations: 762     Method:             REML      \n",
       "No. Groups:       60      Scale:              0.6074    \n",
       "Min. group size:  9       Likelihood:         -997.0904 \n",
       "Max. group size:  17      Converged:          Yes       \n",
       "Mean group size:  12.7                                  \n",
       "--------------------------------------------------------\n",
       "              Coef.  Std.Err.   z    P>|z| [0.025 0.975]\n",
       "--------------------------------------------------------\n",
       "TLOCREV        0.166    0.043  3.888 0.000  0.082  0.249\n",
       "TCURINST      -0.561    0.060 -9.326 0.000 -0.679 -0.443\n",
       "TCURONON      -1.239    0.341 -3.638 0.000 -1.907 -0.571\n",
       "Year           0.003    0.000 24.260 0.000  0.002  0.003\n",
       "Group Var      1.071    0.279                           \n",
       "========================================================\n",
       "\n",
       "\"\"\""
      ]
     },
     "execution_count": 27,
     "metadata": {},
     "output_type": "execute_result"
    }
   ],
   "source": [
    "#Mixed Linear Model: Removing variable that had no relationship\n",
    "\n",
    "cols2 = [ 'COUNTY NAME',\n",
    "     'TLOCREV',\n",
    "     'TCURINST',\n",
    "     'TCURONON',\n",
    "      'Year']\n",
    "\n",
    "\n",
    "X = juv_crime_vs_finances[cols2]\n",
    "y = juv_crime_vs_finances[\"CRIME RATE\"]\n",
    "\n",
    "X_train, X_test, y_train, y_test = train_test_split(X, y, test_size=0.33, random_state=42)\n",
    "\n",
    "\n",
    "cols_model2 = [\n",
    "     'TLOCREV',\n",
    "     'TCURINST',\n",
    "     'TCURONON',\n",
    "      'Year']\n",
    "\n",
    "groups = X_train[\"COUNTY NAME\"]\n",
    "\n",
    "model = sm.MixedLM(endog=y_train, exog=X_train[cols_model2], groups=groups).fit()\n",
    "\n",
    "predictions = model.predict(X_test[cols_model2]) \n",
    "\n",
    "rmse = sqrt(mean_squared_error(y_test, predictions))\n",
    "\n",
    "print('RMSE:' + str(rmse))\n",
    "\n",
    "model.summary()\n",
    "\n"
   ]
  },
  {
   "cell_type": "code",
   "execution_count": 28,
   "metadata": {},
   "outputs": [
    {
     "name": "stderr",
     "output_type": "stream",
     "text": [
      "C:\\Users\\lisbe\\Anaconda3\\lib\\site-packages\\matplotlib\\axes\\_axes.py:6462: UserWarning: The 'normed' kwarg is deprecated, and has been replaced by the 'density' kwarg.\n",
      "  warnings.warn(\"The 'normed' kwarg is deprecated, and has been \"\n"
     ]
    },
    {
     "data": {
      "text/plain": [
       "<matplotlib.axes._subplots.AxesSubplot at 0x1695e090f60>"
      ]
     },
     "execution_count": 28,
     "metadata": {},
     "output_type": "execute_result"
    },
    {
     "data": {
      "image/png": "[encoded data removed]",
      "text/plain": [
       "<Figure size 432x288 with 1 Axes>"
      ]
     },
     "metadata": {},
     "output_type": "display_data"
    }
   ],
   "source": [
    "residuals = predictions - y_test\n",
    "\n",
    "sns.distplot(residuals)"
   ]
  },
  {
   "cell_type": "code",
   "execution_count": 29,
   "metadata": {},
   "outputs": [
    {
     "name": "stdout",
     "output_type": "stream",
     "text": [
      "Score:0.3297033297610493\n",
      "RMSE:1.2682940207478095\n"
     ]
    }
   ],
   "source": [
    "#Regression Tree\n",
    "\n",
    "cols_model = ['TFEDREV',\n",
    "     'TSTREV',\n",
    "     'TLOCREV',\n",
    "     'TCURINST',\n",
    "     'TCURSSVC',\n",
    "     'TCURONON',\n",
    "     'TCAPOUT',\n",
    "      'Year']\n",
    "\n",
    "\n",
    "features=juv_crime_vs_finances[cols_model]\n",
    "\n",
    "target = juv_crime_vs_finances['CRIME RATE']\n",
    "\n",
    "X_train, X_test, y_train, y_test = train_test_split(features, target, test_size=0.33, random_state=42)\n",
    "\n",
    "regressor = DecisionTreeRegressor(random_state=0, min_samples_leaf=5, max_depth=3)\n",
    "\n",
    "model = regressor.fit(X_train, y_train)\n",
    "predictions = model.predict(X_test)\n",
    "\n",
    "print(\"Score:\" +str(model.score(X_test, y_test)))\n",
    "\n",
    "rmse = sqrt(mean_squared_error(y_test, predictions))\n",
    "\n",
    "print('RMSE:' + str(rmse))"
   ]
  },
  {
   "cell_type": "code",
   "execution_count": 30,
   "metadata": {},
   "outputs": [
    {
     "name": "stderr",
     "output_type": "stream",
     "text": [
      "C:\\Users\\lisbe\\Anaconda3\\lib\\site-packages\\matplotlib\\axes\\_axes.py:6462: UserWarning: The 'normed' kwarg is deprecated, and has been replaced by the 'density' kwarg.\n",
      "  warnings.warn(\"The 'normed' kwarg is deprecated, and has been \"\n"
     ]
    },
    {
     "data": {
      "text/plain": [
       "<matplotlib.axes._subplots.AxesSubplot at 0x1695df1c518>"
      ]
     },
     "execution_count": 30,
     "metadata": {},
     "output_type": "execute_result"
    },
    {
     "data": {
      "image/png": "[encoded data removed]",
      "text/plain": [
       "<Figure size 432x288 with 1 Axes>"
      ]
     },
     "metadata": {},
     "output_type": "display_data"
    }
   ],
   "source": [
    "residuals = predictions - y_test\n",
    "\n",
    "sns.distplot(residuals)"
   ]
  },
  {
   "cell_type": "code",
   "execution_count": 31,
   "metadata": {},
   "outputs": [],
   "source": [
    "\n",
    "dot_data = tree.export_graphviz(model, out_file=None, feature_names=list(X_train)) \n",
    "graph = graphviz.Source(dot_data) \n",
    "#graph.render(\"tree3\") "
   ]
  },
  {
   "cell_type": "code",
   "execution_count": 32,
   "metadata": {},
   "outputs": [
    {
     "data": {
      "text/html": [
       "<div>\n",
       "<style scoped>\n",
       "    .dataframe tbody tr th:only-of-type {\n",
       "        vertical-align: middle;\n",
       "    }\n",
       "\n",
       "    .dataframe tbody tr th {\n",
       "        vertical-align: top;\n",
       "    }\n",
       "\n",
       "    .dataframe thead th {\n",
       "        text-align: right;\n",
       "    }\n",
       "</style>\n",
       "<table border=\"1\" class=\"dataframe\">\n",
       "  <thead>\n",
       "    <tr style=\"text-align: right;\">\n",
       "      <th></th>\n",
       "      <th>TFEDREV</th>\n",
       "      <th>TSTREV</th>\n",
       "      <th>TLOCREV</th>\n",
       "      <th>TCURINST</th>\n",
       "      <th>TCURSSVC</th>\n",
       "      <th>TCURONON</th>\n",
       "      <th>TCAPOUT</th>\n",
       "      <th>Year</th>\n",
       "    </tr>\n",
       "  </thead>\n",
       "  <tbody>\n",
       "    <tr>\n",
       "      <th>0</th>\n",
       "      <td>1.270125</td>\n",
       "      <td>4.333970</td>\n",
       "      <td>4.098072</td>\n",
       "      <td>4.968435</td>\n",
       "      <td>3.352738</td>\n",
       "      <td>0.626344</td>\n",
       "      <td>0.328715</td>\n",
       "      <td>2016</td>\n",
       "    </tr>\n",
       "    <tr>\n",
       "      <th>1</th>\n",
       "      <td>0.965414</td>\n",
       "      <td>6.065374</td>\n",
       "      <td>1.499600</td>\n",
       "      <td>4.367453</td>\n",
       "      <td>3.266693</td>\n",
       "      <td>0.565974</td>\n",
       "      <td>0.145542</td>\n",
       "      <td>2016</td>\n",
       "    </tr>\n",
       "    <tr>\n",
       "      <th>2</th>\n",
       "      <td>0.934416</td>\n",
       "      <td>3.981534</td>\n",
       "      <td>5.063389</td>\n",
       "      <td>5.411936</td>\n",
       "      <td>2.667003</td>\n",
       "      <td>0.541305</td>\n",
       "      <td>0.797883</td>\n",
       "      <td>2016</td>\n",
       "    </tr>\n",
       "    <tr>\n",
       "      <th>3</th>\n",
       "      <td>1.574860</td>\n",
       "      <td>5.697130</td>\n",
       "      <td>2.739239</td>\n",
       "      <td>5.072052</td>\n",
       "      <td>3.243606</td>\n",
       "      <td>0.945415</td>\n",
       "      <td>0.083593</td>\n",
       "      <td>2016</td>\n",
       "    </tr>\n",
       "    <tr>\n",
       "      <th>4</th>\n",
       "      <td>1.037302</td>\n",
       "      <td>4.560299</td>\n",
       "      <td>4.371328</td>\n",
       "      <td>5.292529</td>\n",
       "      <td>2.829184</td>\n",
       "      <td>0.455725</td>\n",
       "      <td>0.526518</td>\n",
       "      <td>2016</td>\n",
       "    </tr>\n",
       "  </tbody>\n",
       "</table>\n",
       "</div>"
      ],
      "text/plain": [
       "    TFEDREV    TSTREV   TLOCREV  TCURINST  TCURSSVC  TCURONON   TCAPOUT  Year\n",
       "0  1.270125  4.333970  4.098072  4.968435  3.352738  0.626344  0.328715  2016\n",
       "1  0.965414  6.065374  1.499600  4.367453  3.266693  0.565974  0.145542  2016\n",
       "2  0.934416  3.981534  5.063389  5.411936  2.667003  0.541305  0.797883  2016\n",
       "3  1.574860  5.697130  2.739239  5.072052  3.243606  0.945415  0.083593  2016\n",
       "4  1.037302  4.560299  4.371328  5.292529  2.829184  0.455725  0.526518  2016"
      ]
     },
     "execution_count": 32,
     "metadata": {},
     "output_type": "execute_result"
    }
   ],
   "source": [
    "#PCA\n",
    "\n",
    "cols_model = ['TFEDREV',\n",
    "     'TSTREV',\n",
    "     'TLOCREV',\n",
    "     'TCURINST',\n",
    "     'TCURSSVC',\n",
    "     'TCURONON',\n",
    "     'TCAPOUT',\n",
    "      'Year']\n",
    "\n",
    "features=juv_crime_vs_finances[cols_model]\n",
    "\n",
    "features.head()"
   ]
  },
  {
   "cell_type": "code",
   "execution_count": 33,
   "metadata": {},
   "outputs": [
    {
     "name": "stdout",
     "output_type": "stream",
     "text": [
      "[0.76677542 0.14828898]\n"
     ]
    }
   ],
   "source": [
    "#Create new dataframe with top 2 PCA components as features \n",
    "\n",
    "pca = PCA(n_components=2)\n",
    "principalComponents = pca.fit_transform(features)\n",
    "principalDf = pd.DataFrame(data = principalComponents\n",
    "             , columns = ['principal component 1', 'principal component 2'])\n",
    "\n",
    "print(pca.explained_variance_ratio_)  "
   ]
  },
  {
   "cell_type": "code",
   "execution_count": 34,
   "metadata": {},
   "outputs": [
    {
     "name": "stdout",
     "output_type": "stream",
     "text": [
      "RMSE:2.851793196047409\n"
     ]
    },
    {
     "data": {
      "text/html": [
       "<table class=\"simpletable\">\n",
       "<caption>OLS Regression Results</caption>\n",
       "<tr>\n",
       "  <th>Dep. Variable:</th>       <td>CRIME RATE</td>    <th>  R-squared:         </th> <td>   0.063</td>\n",
       "</tr>\n",
       "<tr>\n",
       "  <th>Model:</th>                   <td>OLS</td>       <th>  Adj. R-squared:    </th> <td>   0.061</td>\n",
       "</tr>\n",
       "<tr>\n",
       "  <th>Method:</th>             <td>Least Squares</td>  <th>  F-statistic:       </th> <td>   25.75</td>\n",
       "</tr>\n",
       "<tr>\n",
       "  <th>Date:</th>             <td>Sun, 02 Dec 2018</td> <th>  Prob (F-statistic):</th> <td>1.52e-11</td>\n",
       "</tr>\n",
       "<tr>\n",
       "  <th>Time:</th>                 <td>23:56:09</td>     <th>  Log-Likelihood:    </th> <td> -1874.7</td>\n",
       "</tr>\n",
       "<tr>\n",
       "  <th>No. Observations:</th>      <td>   762</td>      <th>  AIC:               </th> <td>   3753.</td>\n",
       "</tr>\n",
       "<tr>\n",
       "  <th>Df Residuals:</th>          <td>   760</td>      <th>  BIC:               </th> <td>   3763.</td>\n",
       "</tr>\n",
       "<tr>\n",
       "  <th>Df Model:</th>              <td>     2</td>      <th>                     </th>     <td> </td>   \n",
       "</tr>\n",
       "<tr>\n",
       "  <th>Covariance Type:</th>      <td>nonrobust</td>    <th>                     </th>     <td> </td>   \n",
       "</tr>\n",
       "</table>\n",
       "<table class=\"simpletable\">\n",
       "<tr>\n",
       "            <td></td>               <th>coef</th>     <th>std err</th>      <th>t</th>      <th>P>|t|</th>  <th>[0.025</th>    <th>0.975]</th>  \n",
       "</tr>\n",
       "<tr>\n",
       "  <th>principal component 1</th> <td>   -0.1179</td> <td>    0.018</td> <td>   -6.399</td> <td> 0.000</td> <td>   -0.154</td> <td>   -0.082</td>\n",
       "</tr>\n",
       "<tr>\n",
       "  <th>principal component 2</th> <td>    0.1365</td> <td>    0.043</td> <td>    3.159</td> <td> 0.002</td> <td>    0.052</td> <td>    0.221</td>\n",
       "</tr>\n",
       "</table>\n",
       "<table class=\"simpletable\">\n",
       "<tr>\n",
       "  <th>Omnibus:</th>       <td>256.948</td> <th>  Durbin-Watson:     </th> <td>   0.348</td> \n",
       "</tr>\n",
       "<tr>\n",
       "  <th>Prob(Omnibus):</th> <td> 0.000</td>  <th>  Jarque-Bera (JB):  </th> <td>1279.812</td> \n",
       "</tr>\n",
       "<tr>\n",
       "  <th>Skew:</th>          <td> 1.454</td>  <th>  Prob(JB):          </th> <td>1.24e-278</td>\n",
       "</tr>\n",
       "<tr>\n",
       "  <th>Kurtosis:</th>      <td> 8.644</td>  <th>  Cond. No.          </th> <td>    2.35</td> \n",
       "</tr>\n",
       "</table><br/><br/>Warnings:<br/>[1] Standard Errors assume that the covariance matrix of the errors is correctly specified."
      ],
      "text/plain": [
       "<class 'statsmodels.iolib.summary.Summary'>\n",
       "\"\"\"\n",
       "                            OLS Regression Results                            \n",
       "==============================================================================\n",
       "Dep. Variable:             CRIME RATE   R-squared:                       0.063\n",
       "Model:                            OLS   Adj. R-squared:                  0.061\n",
       "Method:                 Least Squares   F-statistic:                     25.75\n",
       "Date:                Sun, 02 Dec 2018   Prob (F-statistic):           1.52e-11\n",
       "Time:                        23:56:09   Log-Likelihood:                -1874.7\n",
       "No. Observations:                 762   AIC:                             3753.\n",
       "Df Residuals:                     760   BIC:                             3763.\n",
       "Df Model:                           2                                         \n",
       "Covariance Type:            nonrobust                                         \n",
       "=========================================================================================\n",
       "                            coef    std err          t      P>|t|      [0.025      0.975]\n",
       "-----------------------------------------------------------------------------------------\n",
       "principal component 1    -0.1179      0.018     -6.399      0.000      -0.154      -0.082\n",
       "principal component 2     0.1365      0.043      3.159      0.002       0.052       0.221\n",
       "==============================================================================\n",
       "Omnibus:                      256.948   Durbin-Watson:                   0.348\n",
       "Prob(Omnibus):                  0.000   Jarque-Bera (JB):             1279.812\n",
       "Skew:                           1.454   Prob(JB):                    1.24e-278\n",
       "Kurtosis:                       8.644   Cond. No.                         2.35\n",
       "==============================================================================\n",
       "\n",
       "Warnings:\n",
       "[1] Standard Errors assume that the covariance matrix of the errors is correctly specified.\n",
       "\"\"\""
      ]
     },
     "execution_count": 34,
     "metadata": {},
     "output_type": "execute_result"
    }
   ],
   "source": [
    "#Linear Model with PCA\n",
    "\n",
    "finalDf = pd.concat([principalDf, juv_crime_vs_finances[['CRIME RATE']]], axis = 1)\n",
    "\n",
    "cols_model3 = ['principal component 1', 'principal component 2']\n",
    "\n",
    "X = finalDf[cols_model3]\n",
    "\n",
    "y = finalDf[\"CRIME RATE\"]\n",
    "\n",
    "X_train, X_test, y_train, y_test = train_test_split(X, y, test_size=0.33, random_state=42)\n",
    "\n",
    "\n",
    "model = sm.OLS(y_train, X_train).fit()\n",
    "predictions = model.predict(X_test) # make the predictions by the model\n",
    "\n",
    "rmse = sqrt(mean_squared_error(y_test, predictions))\n",
    "\n",
    "print('RMSE:' + str(rmse))\n",
    "\n",
    "# Print out the statistics\n",
    "model.summary()"
   ]
  },
  {
   "cell_type": "code",
   "execution_count": 35,
   "metadata": {},
   "outputs": [
    {
     "name": "stderr",
     "output_type": "stream",
     "text": [
      "C:\\Users\\lisbe\\Anaconda3\\lib\\site-packages\\matplotlib\\axes\\_axes.py:6462: UserWarning: The 'normed' kwarg is deprecated, and has been replaced by the 'density' kwarg.\n",
      "  warnings.warn(\"The 'normed' kwarg is deprecated, and has been \"\n"
     ]
    },
    {
     "data": {
      "text/plain": [
       "<matplotlib.axes._subplots.AxesSubplot at 0x1695de013c8>"
      ]
     },
     "execution_count": 35,
     "metadata": {},
     "output_type": "execute_result"
    },
    {
     "data": {
      "image/png": "[encoded data removed]",
      "text/plain": [
       "<Figure size 432x288 with 1 Axes>"
      ]
     },
     "metadata": {},
     "output_type": "display_data"
    }
   ],
   "source": [
    "residuals = predictions - y_test\n",
    "\n",
    "sns.distplot(residuals)"
   ]
  },
  {
   "cell_type": "code",
   "execution_count": 36,
   "metadata": {},
   "outputs": [
    {
     "name": "stdout",
     "output_type": "stream",
     "text": [
      "Score:0.2918443320003803\n",
      "RMSE:1.3036193007425403\n"
     ]
    }
   ],
   "source": [
    "#Create regression tree using PCA\n",
    "\n",
    "\n",
    "model = regressor.fit(X_train, y_train)\n",
    "\n",
    "dot_data = tree.export_graphviz(model, out_file=None, feature_names=list(X_train)) \n",
    "graph = graphviz.Source(dot_data) \n",
    "#graph.render(\"tree_pca\")\n",
    "\n",
    "predictions = model.predict(X_test)\n",
    "\n",
    "print(\"Score:\" + str(model.score(X_test, y_test)))\n",
    "\n",
    "rmse = sqrt(mean_squared_error(y_test, predictions))\n",
    "\n",
    "print('RMSE:' + str(rmse))"
   ]
  },
  {
   "cell_type": "code",
   "execution_count": 37,
   "metadata": {},
   "outputs": [
    {
     "name": "stderr",
     "output_type": "stream",
     "text": [
      "C:\\Users\\lisbe\\Anaconda3\\lib\\site-packages\\matplotlib\\axes\\_axes.py:6462: UserWarning: The 'normed' kwarg is deprecated, and has been replaced by the 'density' kwarg.\n",
      "  warnings.warn(\"The 'normed' kwarg is deprecated, and has been \"\n"
     ]
    },
    {
     "data": {
      "text/plain": [
       "<matplotlib.axes._subplots.AxesSubplot at 0x1695e248320>"
      ]
     },
     "execution_count": 37,
     "metadata": {},
     "output_type": "execute_result"
    },
    {
     "data": {
      "image/png": "[encoded data removed]",
      "text/plain": [
       "<Figure size 432x288 with 1 Axes>"
      ]
     },
     "metadata": {},
     "output_type": "display_data"
    }
   ],
   "source": [
    "residuals = predictions - y_test\n",
    "\n",
    "sns.distplot(residuals)"
   ]
  }
 ],
 "metadata": {
  "kernelspec": {
   "display_name": "Python 3",
   "language": "python",
   "name": "python3"
  },
  "language_info": {
   "codemirror_mode": {
    "name": "ipython",
    "version": 3
   },
   "file_extension": ".py",
   "mimetype": "text/x-python",
   "name": "python",
   "nbconvert_exporter": "python",
   "pygments_lexer": "ipython3",
   "version": "3.6.5"
  }
 },
 "nbformat": 4,
 "nbformat_minor": 2
}
