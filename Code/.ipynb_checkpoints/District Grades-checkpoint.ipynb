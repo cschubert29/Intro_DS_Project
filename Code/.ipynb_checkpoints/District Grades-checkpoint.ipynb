{
 "cells": [
  {
   "cell_type": "code",
   "execution_count": null,
   "metadata": {},
   "outputs": [],
   "source": [
    "import pandas as pd"
   ]
  },
  {
   "cell_type": "code",
   "execution_count": null,
   "metadata": {},
   "outputs": [],
   "source": [
    "# csv regarding Distrcit grades from 2009- 2017 we'll be concatnating\n",
    "distGrade09= pd.read_csv(\"/Users/paulososa/github/Intro_DS_Project/data/Florida data/fldoe/District Grades/DistrictGrades09.csv\")\n",
    "distGrade10= pd.read_csv(\"/Users/paulososa/github/Intro_DS_Project/data/Florida data/fldoe/District Grades/DistrictGrades10.csv\")\n",
    "distGrade11= pd.read_csv(\"/Users/paulososa/github/Intro_DS_Project/data/Florida data/fldoe/District Grades/DistrictGrades11.csv\")\n",
    "distGrade12= pd.read_csv(\"/Users/paulososa/github/Intro_DS_Project/data/Florida data/fldoe/District Grades/DistrictGrades12.csv\")\n",
    "distGrade13= pd.read_csv(\"/Users/paulososa/github/Intro_DS_Project/data/Florida data/fldoe/District Grades/DistrictGrades13.csv\")\n",
    "distGrade14= pd.read_csv(\"/Users/paulososa/github/Intro_DS_Project/data/Florida data/fldoe/District Grades/DistrictGrades14.csv\")\n",
    "distGrade15= pd.read_csv(\"/Users/paulososa/github/Intro_DS_Project/data/Florida data/fldoe/District Grades/DistrictGrades15.csv\")\n",
    "distGrade16= pd.read_csv(\"/Users/paulososa/github/Intro_DS_Project/data/Florida data/fldoe/District Grades/DistrictGrades16.csv\")\n",
    "distGrade17= pd.read_csv(\"/Users/paulososa/github/Intro_DS_Project/data/Florida data/fldoe/District Grades/DistrictGrades17.csv\")"
   ]
  },
  {
   "cell_type": "code",
   "execution_count": null,
   "metadata": {},
   "outputs": [],
   "source": [
    "distGrade0917= pd.concat([distGrade09,distGrade10,distGrade11, distGrade12, distGrade13,\n",
    "                         distGrade14, distGrade15, distGrade16, distGrade17])\n"
   ]
  },
  {
   "cell_type": "code",
   "execution_count": null,
   "metadata": {},
   "outputs": [],
   "source": []
  }
 ],
 "metadata": {
  "kernelspec": {
   "display_name": "Python 3",
   "language": "python",
   "name": "python3"
  },
  "language_info": {
   "codemirror_mode": {
    "name": "ipython",
    "version": 3
   },
   "file_extension": ".py",
   "mimetype": "text/x-python",
   "name": "python",
   "nbconvert_exporter": "python",
   "pygments_lexer": "ipython3",
   "version": "3.6.5"
  }
 },
 "nbformat": 4,
 "nbformat_minor": 2
}
