{
 "cells": [
  {
   "cell_type": "code",
   "execution_count": 2,
   "metadata": {},
   "outputs": [],
   "source": [
    "import pandas as pd"
   ]
  },
  {
   "cell_type": "code",
   "execution_count": 5,
   "metadata": {},
   "outputs": [],
   "source": [
    "sir09= pd.read_csv(\"/Users/paulososa/github/Intro_DS_Project/Data/Florida data/FLDOE/School Improvement Ratings/SIR09.csv\")\n",
    "sir10= pd.read_csv(\"/Users/paulososa/github/Intro_DS_Project/Data/Florida data/FLDOE/School Improvement Ratings/SIR10.csv\")\n",
    "sir11= pd.read_csv(\"/Users/paulososa/github/Intro_DS_Project/Data/Florida data/FLDOE/School Improvement Ratings/SIR11.csv\")\n",
    "sir12= pd.read_csv(\"/Users/paulososa/github/Intro_DS_Project/Data/Florida data/FLDOE/School Improvement Ratings/SIR12.csv\")\n",
    "sir13= pd.read_csv(\"/Users/paulososa/github/Intro_DS_Project/Data/Florida data/FLDOE/School Improvement Ratings/SIR13.csv\")\n",
    "sir14= pd.read_csv(\"/Users/paulososa/github/Intro_DS_Project/Data/Florida data/FLDOE/School Improvement Ratings/SIR14.csv\")\n",
    "sir16= pd.read_csv(\"/Users/paulososa/github/Intro_DS_Project/Data/Florida data/FLDOE/School Improvement Ratings/SIR16.csv\")\n",
    "sir17= pd.read_csv(\"/Users/paulososa/github/Intro_DS_Project/Data/Florida data/FLDOE/School Improvement Ratings/SIR17.csv\")"
   ]
  },
  {
   "cell_type": "code",
   "execution_count": null,
   "metadata": {},
   "outputs": [],
   "source": []
  }
 ],
 "metadata": {
  "kernelspec": {
   "display_name": "Python 3",
   "language": "python",
   "name": "python3"
  },
  "language_info": {
   "codemirror_mode": {
    "name": "ipython",
    "version": 3
   },
   "file_extension": ".py",
   "mimetype": "text/x-python",
   "name": "python",
   "nbconvert_exporter": "python",
   "pygments_lexer": "ipython3",
   "version": "3.6.5"
  }
 },
 "nbformat": 4,
 "nbformat_minor": 2
}
