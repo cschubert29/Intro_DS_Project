{
 "cells": [
  {
   "cell_type": "code",
   "execution_count": 29,
   "metadata": {},
   "outputs": [],
   "source": [
    "#Imports\n",
    "import pandas as pd\n",
    "from scipy.stats import mannwhitneyu\n",
    "\n",
    "from pandas.plotting import parallel_coordinates\n",
    "import seaborn as sns\n",
    "import matplotlib.pyplot as plt\n",
    "from mpl_toolkits.basemap import Basemap\n",
    "plt.style.use('fivethirtyeight')\n",
    "import matplotlib\n",
    "from mpl_toolkits.mplot3d import Axes3D\n",
    "matplotlib.rcParams['axes.labelsize'] = 14\n",
    "matplotlib.rcParams['xtick.labelsize'] = 12\n",
    "matplotlib.rcParams['ytick.labelsize'] = 12\n",
    "matplotlib.rcParams['text.color'] = 'k'"
   ]
  },
  {
   "cell_type": "code",
   "execution_count": 30,
   "metadata": {},
   "outputs": [
    {
     "data": {
      "text/html": [
       "<div>\n",
       "<style scoped>\n",
       "    .dataframe tbody tr th:only-of-type {\n",
       "        vertical-align: middle;\n",
       "    }\n",
       "\n",
       "    .dataframe tbody tr th {\n",
       "        vertical-align: top;\n",
       "    }\n",
       "\n",
       "    .dataframe thead th {\n",
       "        text-align: right;\n",
       "    }\n",
       "</style>\n",
       "<table border=\"1\" class=\"dataframe\">\n",
       "  <thead>\n",
       "    <tr style=\"text-align: right;\">\n",
       "      <th></th>\n",
       "      <th>District Number</th>\n",
       "      <th>District Name</th>\n",
       "      <th>School Number</th>\n",
       "      <th>School Name</th>\n",
       "      <th>English Language Arts Achievement</th>\n",
       "      <th>English Language Arts Learning Gains</th>\n",
       "      <th>English Language Arts Learning Gains of the Lowest 25%</th>\n",
       "      <th>Mathematics Achievement</th>\n",
       "      <th>Mathematics Learning Gains</th>\n",
       "      <th>Mathematics Learning Gains of the Lowest 25%</th>\n",
       "      <th>...</th>\n",
       "      <th>Grade 1999</th>\n",
       "      <th>Was the collocated rule used?</th>\n",
       "      <th>Collocated Number</th>\n",
       "      <th>Charter School</th>\n",
       "      <th>Title I</th>\n",
       "      <th>Alternative/ESE Center School</th>\n",
       "      <th>School Type</th>\n",
       "      <th>Percent of Minority Students</th>\n",
       "      <th>Percent of Economically Disadvantaged Students</th>\n",
       "      <th>Region</th>\n",
       "    </tr>\n",
       "  </thead>\n",
       "  <tbody>\n",
       "    <tr>\n",
       "      <th>0</th>\n",
       "      <td>1</td>\n",
       "      <td>ALACHUA</td>\n",
       "      <td>31</td>\n",
       "      <td>J. J. FINLEY ELEMENTARY SCHOOL</td>\n",
       "      <td>56.0</td>\n",
       "      <td>57.0</td>\n",
       "      <td>32.0</td>\n",
       "      <td>55.0</td>\n",
       "      <td>52.0</td>\n",
       "      <td>33.0</td>\n",
       "      <td>...</td>\n",
       "      <td>B</td>\n",
       "      <td>N</td>\n",
       "      <td>NaN</td>\n",
       "      <td>NO</td>\n",
       "      <td>YES</td>\n",
       "      <td>N</td>\n",
       "      <td>1</td>\n",
       "      <td>65.6</td>\n",
       "      <td>81.3</td>\n",
       "      <td>0.0</td>\n",
       "    </tr>\n",
       "    <tr>\n",
       "      <th>1</th>\n",
       "      <td>1</td>\n",
       "      <td>ALACHUA</td>\n",
       "      <td>41</td>\n",
       "      <td>STEPHEN FOSTER ELEMENTARY SCHOOL</td>\n",
       "      <td>64.0</td>\n",
       "      <td>55.0</td>\n",
       "      <td>28.0</td>\n",
       "      <td>67.0</td>\n",
       "      <td>59.0</td>\n",
       "      <td>33.0</td>\n",
       "      <td>...</td>\n",
       "      <td>C</td>\n",
       "      <td>N</td>\n",
       "      <td>NaN</td>\n",
       "      <td>NO</td>\n",
       "      <td>YES</td>\n",
       "      <td>N</td>\n",
       "      <td>1</td>\n",
       "      <td>69.0</td>\n",
       "      <td>100.0</td>\n",
       "      <td>0.0</td>\n",
       "    </tr>\n",
       "    <tr>\n",
       "      <th>2</th>\n",
       "      <td>1</td>\n",
       "      <td>ALACHUA</td>\n",
       "      <td>71</td>\n",
       "      <td>LAKE FOREST ELEMENTARY SCHOOL</td>\n",
       "      <td>30.0</td>\n",
       "      <td>43.0</td>\n",
       "      <td>55.0</td>\n",
       "      <td>35.0</td>\n",
       "      <td>40.0</td>\n",
       "      <td>41.0</td>\n",
       "      <td>...</td>\n",
       "      <td>D</td>\n",
       "      <td>N</td>\n",
       "      <td>NaN</td>\n",
       "      <td>NO</td>\n",
       "      <td>YES</td>\n",
       "      <td>N</td>\n",
       "      <td>1</td>\n",
       "      <td>90.6</td>\n",
       "      <td>100.0</td>\n",
       "      <td>0.0</td>\n",
       "    </tr>\n",
       "    <tr>\n",
       "      <th>3</th>\n",
       "      <td>1</td>\n",
       "      <td>ALACHUA</td>\n",
       "      <td>91</td>\n",
       "      <td>LITTLEWOOD ELEMENTARY SCHOOL</td>\n",
       "      <td>58.0</td>\n",
       "      <td>51.0</td>\n",
       "      <td>47.0</td>\n",
       "      <td>64.0</td>\n",
       "      <td>62.0</td>\n",
       "      <td>42.0</td>\n",
       "      <td>...</td>\n",
       "      <td>B</td>\n",
       "      <td>N</td>\n",
       "      <td>NaN</td>\n",
       "      <td>NO</td>\n",
       "      <td>YES</td>\n",
       "      <td>N</td>\n",
       "      <td>1</td>\n",
       "      <td>58.0</td>\n",
       "      <td>94.0</td>\n",
       "      <td>0.0</td>\n",
       "    </tr>\n",
       "    <tr>\n",
       "      <th>4</th>\n",
       "      <td>1</td>\n",
       "      <td>ALACHUA</td>\n",
       "      <td>101</td>\n",
       "      <td>W. A. METCALFE ELEMENTARY SCHOOL</td>\n",
       "      <td>24.0</td>\n",
       "      <td>39.0</td>\n",
       "      <td>40.0</td>\n",
       "      <td>32.0</td>\n",
       "      <td>48.0</td>\n",
       "      <td>42.0</td>\n",
       "      <td>...</td>\n",
       "      <td>D</td>\n",
       "      <td>N</td>\n",
       "      <td>NaN</td>\n",
       "      <td>NO</td>\n",
       "      <td>YES</td>\n",
       "      <td>N</td>\n",
       "      <td>1</td>\n",
       "      <td>94.6</td>\n",
       "      <td>100.0</td>\n",
       "      <td>0.0</td>\n",
       "    </tr>\n",
       "  </tbody>\n",
       "</table>\n",
       "<p>5 rows × 48 columns</p>\n",
       "</div>"
      ],
      "text/plain": [
       "   District Number District Name  School Number  \\\n",
       "0                1       ALACHUA             31   \n",
       "1                1       ALACHUA             41   \n",
       "2                1       ALACHUA             71   \n",
       "3                1       ALACHUA             91   \n",
       "4                1       ALACHUA            101   \n",
       "\n",
       "                        School Name  English Language Arts Achievement  \\\n",
       "0    J. J. FINLEY ELEMENTARY SCHOOL                               56.0   \n",
       "1  STEPHEN FOSTER ELEMENTARY SCHOOL                               64.0   \n",
       "2     LAKE FOREST ELEMENTARY SCHOOL                               30.0   \n",
       "3      LITTLEWOOD ELEMENTARY SCHOOL                               58.0   \n",
       "4  W. A. METCALFE ELEMENTARY SCHOOL                               24.0   \n",
       "\n",
       "   English Language Arts Learning Gains  \\\n",
       "0                                  57.0   \n",
       "1                                  55.0   \n",
       "2                                  43.0   \n",
       "3                                  51.0   \n",
       "4                                  39.0   \n",
       "\n",
       "   English Language Arts Learning Gains of the Lowest 25%  \\\n",
       "0                                               32.0        \n",
       "1                                               28.0        \n",
       "2                                               55.0        \n",
       "3                                               47.0        \n",
       "4                                               40.0        \n",
       "\n",
       "   Mathematics Achievement  Mathematics Learning Gains  \\\n",
       "0                     55.0                        52.0   \n",
       "1                     67.0                        59.0   \n",
       "2                     35.0                        40.0   \n",
       "3                     64.0                        62.0   \n",
       "4                     32.0                        48.0   \n",
       "\n",
       "   Mathematics Learning Gains of the Lowest 25%  ...    Grade 1999  \\\n",
       "0                                          33.0  ...             B   \n",
       "1                                          33.0  ...             C   \n",
       "2                                          41.0  ...             D   \n",
       "3                                          42.0  ...             B   \n",
       "4                                          42.0  ...             D   \n",
       "\n",
       "   Was the collocated rule used?  Collocated Number  Charter School  Title I  \\\n",
       "0                              N                NaN              NO      YES   \n",
       "1                              N                NaN              NO      YES   \n",
       "2                              N                NaN              NO      YES   \n",
       "3                              N                NaN              NO      YES   \n",
       "4                              N                NaN              NO      YES   \n",
       "\n",
       "   Alternative/ESE Center School  School Type  Percent of Minority Students  \\\n",
       "0                              N            1                          65.6   \n",
       "1                              N            1                          69.0   \n",
       "2                              N            1                          90.6   \n",
       "3                              N            1                          58.0   \n",
       "4                              N            1                          94.6   \n",
       "\n",
       "   Percent of Economically Disadvantaged Students Region  \n",
       "0                                            81.3    0.0  \n",
       "1                                           100.0    0.0  \n",
       "2                                           100.0    0.0  \n",
       "3                                            94.0    0.0  \n",
       "4                                           100.0    0.0  \n",
       "\n",
       "[5 rows x 48 columns]"
      ]
     },
     "execution_count": 30,
     "metadata": {},
     "output_type": "execute_result"
    }
   ],
   "source": [
    "#Load data - school grades by school for 2017-2018 school year\n",
    "\n",
    "school_grades = pd.read_csv(r\"..\\Data\\Florida data\\FLDOE\\School Grades\\SchoolGrades18 (1).csv\", header=4)\n",
    "school_grades.head()"
   ]
  },
  {
   "cell_type": "code",
   "execution_count": 31,
   "metadata": {
    "scrolled": true
   },
   "outputs": [
    {
     "name": "stdout",
     "output_type": "stream",
     "text": [
      "<class 'pandas.core.frame.DataFrame'>\n",
      "RangeIndex: 3331 entries, 0 to 3330\n",
      "Data columns (total 48 columns):\n",
      "District Number                                           3331 non-null int64\n",
      "District Name                                             3331 non-null object\n",
      "School Number                                             3331 non-null int64\n",
      "School Name                                               3331 non-null object\n",
      "English Language Arts Achievement                         3295 non-null float64\n",
      "English Language Arts Learning Gains                      3280 non-null float64\n",
      "English Language Arts Learning Gains of the Lowest 25%    3210 non-null float64\n",
      "Mathematics Achievement                                   3293 non-null float64\n",
      "Mathematics Learning Gains                                3278 non-null float64\n",
      "Mathematics Learning Gains of the Lowest 25%              3205 non-null float64\n",
      "Science Achievement                                       3229 non-null float64\n",
      "Social Studies Achievement                                1443 non-null float64\n",
      "Middle School Acceleration                                940 non-null float64\n",
      "Graduation Rate 2016-17                                   564 non-null float64\n",
      "College and Career Acceleration 2016-17                   559 non-null float64\n",
      "Total Points Earned                                       3308 non-null float64\n",
      "Total Components                                          3308 non-null float64\n",
      "Percent of Total Possible Points                          3308 non-null float64\n",
      "Percent Tested                                            3297 non-null float64\n",
      "Grade 2018                                                3331 non-null object\n",
      "Grade 2017                                                3258 non-null object\n",
      "Grade 2016                                                3221 non-null object\n",
      "Informational Baseline Grade 2015                         3173 non-null object\n",
      "Grade 2014                                                3114 non-null object\n",
      "Grade 2013                                                3028 non-null object\n",
      "Grade 2012                                                2978 non-null object\n",
      "Grade 2011                                                2915 non-null object\n",
      "Grade 2010                                                2872 non-null object\n",
      "Grade 2009                                                2809 non-null object\n",
      "Grade 2008                                                2739 non-null object\n",
      "Grade 2007                                                2681 non-null object\n",
      "Grade 2006                                                2621 non-null object\n",
      "Grade 2005                                                2555 non-null object\n",
      "Grade 2004                                                2485 non-null object\n",
      "Grade 2003                                                2422 non-null object\n",
      "Grade 2002                                                2359 non-null object\n",
      "Grade 2001                                                2272 non-null object\n",
      "Grade 2000                                                2210 non-null object\n",
      "Grade 1999                                                2176 non-null object\n",
      "Was the collocated rule used?                             3331 non-null object\n",
      "Collocated Number                                         8 non-null float64\n",
      "Charter School                                            3331 non-null object\n",
      "Title I                                                   3331 non-null object\n",
      "Alternative/ESE Center School                             3331 non-null object\n",
      "School Type                                               3331 non-null int64\n",
      "Percent of Minority Students                              3327 non-null float64\n",
      "Percent of Economically Disadvantaged Students            3328 non-null float64\n",
      "Region                                                    3328 non-null float64\n",
      "dtypes: float64(19), int64(3), object(26)\n",
      "memory usage: 1.2+ MB\n"
     ]
    }
   ],
   "source": [
    "school_grades.info()"
   ]
  },
  {
   "cell_type": "code",
   "execution_count": 32,
   "metadata": {
    "scrolled": true
   },
   "outputs": [
    {
     "data": {
      "text/plain": [
       "District Number                                              0\n",
       "District Name                                                0\n",
       "School Number                                                0\n",
       "School Name                                                  0\n",
       "English Language Arts Achievement                           36\n",
       "English Language Arts Learning Gains                        51\n",
       "English Language Arts Learning Gains of the Lowest 25%     121\n",
       "Mathematics Achievement                                     38\n",
       "Mathematics Learning Gains                                  53\n",
       "Mathematics Learning Gains of the Lowest 25%               126\n",
       "Science Achievement                                        102\n",
       "Social Studies Achievement                                1888\n",
       "Middle School Acceleration                                2391\n",
       "Graduation Rate 2016-17                                   2767\n",
       "College and Career Acceleration 2016-17                   2772\n",
       "Total Points Earned                                         23\n",
       "Total Components                                            23\n",
       "Percent of Total Possible Points                            23\n",
       "Percent Tested                                              34\n",
       "Grade 2018                                                   0\n",
       "Grade 2017                                                  73\n",
       "Grade 2016                                                 110\n",
       "Informational Baseline Grade 2015                          158\n",
       "Grade 2014                                                 217\n",
       "Grade 2013                                                 303\n",
       "Grade 2012                                                 353\n",
       "Grade 2011                                                 416\n",
       "Grade 2010                                                 459\n",
       "Grade 2009                                                 522\n",
       "Grade 2008                                                 592\n",
       "Grade 2007                                                 650\n",
       "Grade 2006                                                 710\n",
       "Grade 2005                                                 776\n",
       "Grade 2004                                                 846\n",
       "Grade 2003                                                 909\n",
       "Grade 2002                                                 972\n",
       "Grade 2001                                                1059\n",
       "Grade 2000                                                1121\n",
       "Grade 1999                                                1155\n",
       "Was the collocated rule used?                                0\n",
       "Collocated Number                                         3323\n",
       "Charter School                                               0\n",
       "Title I                                                      0\n",
       "Alternative/ESE Center School                                0\n",
       "School Type                                                  0\n",
       "Percent of Minority Students                                 4\n",
       "Percent of Economically Disadvantaged Students               3\n",
       "Region                                                       3\n",
       "dtype: int64"
      ]
     },
     "execution_count": 32,
     "metadata": {},
     "output_type": "execute_result"
    }
   ],
   "source": [
    "school_grades.isna().sum()"
   ]
  },
  {
   "cell_type": "code",
   "execution_count": 33,
   "metadata": {},
   "outputs": [
    {
     "data": {
      "image/png": "[encoded data removed]",
      "text/plain": [
       "<Figure size 432x288 with 1 Axes>"
      ]
     },
     "metadata": {},
     "output_type": "display_data"
    }
   ],
   "source": [
    "#Visualize grade frequencies for 2018 grades\n",
    "\n",
    "grade_count = school_grades['Grade 2018'].value_counts()\n",
    "sns.set(style=\"darkgrid\")\n",
    "sns.barplot(grade_count.index, grade_count.values, alpha=0.9)\n",
    "plt.title('Frequency Distribution of 2018 Grades')\n",
    "plt.ylabel('Number of Occurrences', fontsize=12)\n",
    "plt.xlabel('Grade', fontsize=12)\n",
    "plt.show()"
   ]
  },
  {
   "cell_type": "code",
   "execution_count": 34,
   "metadata": {},
   "outputs": [],
   "source": [
    "#Map grades to numbers for Grade 2018 column\n",
    "school_grades = school_grades.replace({'Grade 2018': {'A': 1, 'B': 2, 'C':3, 'D':4, 'F':5, 'I':6}})\n"
   ]
  },
  {
   "cell_type": "code",
   "execution_count": 35,
   "metadata": {},
   "outputs": [],
   "source": [
    "#Define non-charter sample and charter sample\n",
    "non_charter = school_grades[school_grades['Charter School']=='NO']['Grade 2018']\n",
    "charter = school_grades[school_grades['Charter School']=='YES']['Grade 2018']"
   ]
  },
  {
   "cell_type": "code",
   "execution_count": 36,
   "metadata": {},
   "outputs": [
    {
     "data": {
      "image/png": "[encoded data removed]",
      "text/plain": [
       "<Figure size 432x288 with 1 Axes>"
      ]
     },
     "metadata": {},
     "output_type": "display_data"
    }
   ],
   "source": [
    "grade_count = charter.value_counts()\n",
    "sns.set(style=\"darkgrid\")\n",
    "sns.barplot(grade_count.index, grade_count.values, alpha=0.9)\n",
    "plt.title('Frequency Distribution of 2018 Grades: Charter Schools')\n",
    "plt.ylabel('Number of Occurrences', fontsize=12)\n",
    "plt.xlabel('Grade', fontsize=12)\n",
    "plt.show()"
   ]
  },
  {
   "cell_type": "code",
   "execution_count": 37,
   "metadata": {},
   "outputs": [
    {
     "data": {
      "image/png": "[encoded data removed]",
      "text/plain": [
       "<Figure size 432x288 with 1 Axes>"
      ]
     },
     "metadata": {},
     "output_type": "display_data"
    }
   ],
   "source": [
    "grade_count = non_charter.value_counts()\n",
    "sns.set(style=\"darkgrid\")\n",
    "sns.barplot(grade_count.index, grade_count.values, alpha=0.9)\n",
    "plt.title('Frequency Distribution of 2018 Grades: Non-charter Schools')\n",
    "plt.ylabel('Number of Occurrences', fontsize=12)\n",
    "plt.xlabel('Grade', fontsize=12)\n",
    "plt.show()"
   ]
  },
  {
   "cell_type": "markdown",
   "metadata": {},
   "source": [
    "# Non-parametric test for comparison of two groups\n",
    "***\n",
    "Since the school grades data is ordinal, we need to use a non-parametric hypothesis test to compare the two independent samples (non-charter and charter).\n",
    "The Mann-Whitney U test is a nonparametric statistical significance test for determining whether two independent samples were drawn from a population with the same distribution."
   ]
  },
  {
   "cell_type": "markdown",
   "metadata": {},
   "source": [
    "Research question: Is there a significant difference in the grade performance of charter schools and non-charter public schools?"
   ]
  },
  {
   "cell_type": "code",
   "execution_count": 38,
   "metadata": {},
   "outputs": [
    {
     "name": "stdout",
     "output_type": "stream",
     "text": [
      "Statistics=608783.000, p=0.000\n",
      "Different distribution (reject H0)\n"
     ]
    }
   ],
   "source": [
    "# Mann-Whitney U test\n",
    "\n",
    "# compare samples\n",
    "stat, p = mannwhitneyu(non_charter, charter)\n",
    "print('Statistics=%.3f, p=%.3f' % (stat, p))\n",
    "# interpret\n",
    "alpha = 0.05\n",
    "if p > alpha:\n",
    "    print('Same distribution (fail to reject H0)')\n",
    "else:\n",
    "    print('Different distribution (reject H0)')"
   ]
  },
  {
   "cell_type": "markdown",
   "metadata": {},
   "source": [
    "Result: Reject the null hypothesis. There is a significant difference in the grade performance of charter schools compared to non-charter public schools."
   ]
  },
  {
   "cell_type": "code",
   "execution_count": null,
   "metadata": {},
   "outputs": [],
   "source": []
  }
 ],
 "metadata": {
  "kernelspec": {
   "display_name": "Python 3",
   "language": "python",
   "name": "python3"
  },
  "language_info": {
   "codemirror_mode": {
    "name": "ipython",
    "version": 3
   },
   "file_extension": ".py",
   "mimetype": "text/x-python",
   "name": "python",
   "nbconvert_exporter": "python",
   "pygments_lexer": "ipython3",
   "version": "3.7.0"
  }
 },
 "nbformat": 4,
 "nbformat_minor": 2
}
